{
 "cells": [
  {
   "cell_type": "markdown",
   "metadata": {},
   "source": [
    "sentence1 = These hhhh@gmail.com results CCR suggest that HIV 1 attachment to CD4 creates a high-affinity binding site for CCR 5, leading to membrane fusion and virus entry.\n",
    "\n",
    "protein ['CCR', 'HIV 1', 'CD4', 'CCR 5']\n",
    "\n",
    "sentence2 = In addition, JAK2 ABC phosphorylated ABC 1 Raf-1 at sites ABC 1 DE different from those phosphorylated by pp60v-src?\n",
    "\n",
    "protein ['JAK2', 'ABC', 'ABC 1', 'Raf-1', 'ABC 1 DE', 'pp60v-src']\n",
    "\n",
    "sentence3 =  Since hsp90 and hsp70 do not readily associate on their own, it appears that p60 is the central organizing component of an hsp90 p60 hsp70 complex.\n",
    "\n",
    "protein ['hsp90', 'hsp70', 'p60', 'hsp90 p60 hsp70',] "
   ]
  },
  {
   "cell_type": "code",
   "execution_count": 1,
   "metadata": {},
   "outputs": [],
   "source": [
    "# create a paragraph, incluse 3 sentence\n",
    "text ='These hhhh@gmail.com results CCR suggest that HIV 1 attachment to CD4 creates a high-affinity binding site for CCR 5, leading to membrane fusion and virus entry. In addition, JAK2 ABC phosphorylated ABC 1 Raf-1 at sites ABC 1 DE different from those phosphorylated by pp60v-src? Since hsp90 and hsp70 do not readily associate on their own, it appears that p60 is the central organizing component of an hsp90 p60 hsp70 complex.'\n"
   ]
  },
  {
   "cell_type": "code",
   "execution_count": 2,
   "metadata": {},
   "outputs": [],
   "source": [
    "name = ['HIV 1','CD4','CCR 5','CCR']"
   ]
  },
  {
   "cell_type": "code",
   "execution_count": 3,
   "metadata": {},
   "outputs": [],
   "source": [
    "# protein name set\n",
    "name = ['HIV 1','CD4','CCR 5','CCR','JAK2','Raf-1','pp60v-src','hsp90','hsp70','p60','hsp90 p60 hsp70','ABC 1 DE','ABC 1','ABC']"
   ]
  },
  {
   "cell_type": "code",
   "execution_count": 4,
   "metadata": {},
   "outputs": [],
   "source": [
    "# a dictionary with {first word of name : length of the name}\n",
    "name_l ={'HIV':2,'CD4':1,'CCR':2,'JAK2':1,'Raf-1':1,'pp60v-src':1,'hsp90':3,'hsp70':1,'p60':1,'ABC':3}\n",
    "# name with different length\n",
    "l_name = {1:{'CD4','CCR','JAK2','Raf-1','pp60v-src','hsp90','hsp70','p60','ABC'},2:{'ABC 1','CCR 5','HIV 1'},3:{'hsp90 p60 hsp70','ABC 1 DE'}}"
   ]
  },
  {
   "cell_type": "code",
   "execution_count": 5,
   "metadata": {},
   "outputs": [],
   "source": [
    "# sentence end \n",
    "end = ['.',':','!','?']\n",
    "#skip = [',']"
   ]
  },
  {
   "cell_type": "code",
   "execution_count": 6,
   "metadata": {},
   "outputs": [],
   "source": [
    "sentence=[]  # store sentence splitted from text\n",
    "file = []   # store sentences \n",
    "for i in range(len(text)):\n",
    "    if text[i] in end:\n",
    "        if i+2 >= len(text) or (text[i+2].isupper() and text[i+1]==' ') :\n",
    "            #sentence.append(text[i])  # remove all Punctuation\n",
    "            file.append(sentence)\n",
    "            sentence=[]\n",
    "    elif text[i]==',': # remove all Punctuation\n",
    "        continue    \n",
    "    else:\n",
    "        sentence.append(text[i])"
   ]
  },
  {
   "cell_type": "code",
   "execution_count": 7,
   "metadata": {},
   "outputs": [],
   "source": [
    "def MLS(sentence,name_l,l_name):\n",
    "    l_name3 = list(l_name[3])\n",
    "    l_name2 = list(l_name[2])\n",
    "    name_l_key = list(name_l.keys())\n",
    "    protein = []\n",
    "    sen = sentence.split(\" \")\n",
    "    #print(sen)\n",
    "    i=0\n",
    "    for i in range(len(sen)):\n",
    "        word=sen[i]\n",
    "        if word not in name_l_key:\n",
    "            continue\n",
    "        elif name_l[word]==3: # the protein name may have 1-3 words\n",
    "            word3 = \" \".join(sen[i:i+3]) \n",
    "            #print(word3,3)\n",
    "            word2 = \" \".join(sen[i:i+2])\n",
    "            #print(word2,2)\n",
    "            if word3 in l_name3:   #check the word with 2 other words whether in l_name3 \n",
    "                protein.append(word3)\n",
    "            elif word2 in l_name2: #check the word with 1 other words whether in l_name2 \n",
    "                protein.append(word2)\n",
    "            else:\n",
    "                protein.append(word) # if not 2or 3,should be l_name1\n",
    "        elif name_l[word]==2: \n",
    "            word2 = \" \".join(sen[i:i+2])\n",
    "            #print(word2,1)\n",
    "            if word2 in l_name2:  #check the word with 1 other words whether in l_name                \n",
    "                protein.append(word2)\n",
    "            else:\n",
    "                protein.append(word)\n",
    "        elif name_l[word]==1: # the protein only have one word name\n",
    "            word_3_2 = \" \".join(sen[i-1:i+2])  #check whether 3 words protein name  and position 2\n",
    "            word_3_3 = \" \".join(sen[i-2:i+1])\n",
    "            word_2_2 = \" \".join(sen[i-1:i+1])\n",
    "            if word_3_2 in l_name3 or word_3_3 in l_name3 or word_2_2 in l_name2:\n",
    "                continue\n",
    "            else:\n",
    "                protein.append(word)\n",
    "    return protein"
   ]
  },
  {
   "cell_type": "code",
   "execution_count": 8,
   "metadata": {},
   "outputs": [
    {
     "name": "stdout",
     "output_type": "stream",
     "text": [
      "protein ['CCR', 'HIV 1', 'CD4', 'CCR 5']  in sentence 1\n",
      "protein ['JAK2', 'ABC', 'ABC 1', 'Raf-1', 'ABC 1 DE', 'pp60v-src']  in sentence 2\n",
      "protein ['hsp90', 'hsp70', 'p60', 'hsp90 p60 hsp70']  in sentence 3\n"
     ]
    }
   ],
   "source": [
    "for j in range(len(file)):\n",
    "    s = file[j]    \n",
    "    s = \"\".join(s)\n",
    "    s =s.strip()\n",
    "    protein_name = MLS(s,name_l,l_name)\n",
    "    print(\"protein %s  in sentence %d\"%(protein_name,j+1))"
   ]
  },
  {
   "cell_type": "code",
   "execution_count": 9,
   "metadata": {},
   "outputs": [],
   "source": [
    "from pythonds.graphs import Graph, Vertex\n",
    "from pythonds.basic import Queue"
   ]
  },
  {
   "cell_type": "code",
   "execution_count": 44,
   "metadata": {},
   "outputs": [],
   "source": [
    "g = Graph()\n",
    "root = \"*\"\n",
    "g.addVertex(root)\n",
    "level1 = []\n",
    "level2 = []\n",
    "level3 = []\n",
    "for word in name:\n",
    "    word = word.split(' ')\n",
    "    if len(word)==3:\n",
    "        for i in range(len(word)):\n",
    "            w = word[i]\n",
    "            if i == 0 and w not in level1:\n",
    "                    level1.append(w)\n",
    "                    g.addVertex(w)\n",
    "                    g.addEdge(root,w) # g.addEdge(from vertex,to vertex)\n",
    "            elif i==1:\n",
    "                if w not in level2:\n",
    "                    level2.append(w)\n",
    "                    g.addVertex(w)\n",
    "                    g.addEdge(word[i-1],w)\n",
    "                else:\n",
    "                    g.addEdge(word[i-1],w)\n",
    "            elif i==2:\n",
    "                if w not in level3:\n",
    "                    level3.append(w)\n",
    "                    g.addVertex(w)\n",
    "                    g.addEdge(word[i-1],w)\n",
    "                else:\n",
    "                    g.addEdge(word[i-1],w)\n",
    "\n",
    "    elif len(word)==2:\n",
    "        for i in range(len(word)):\n",
    "            w = word[i]\n",
    "            if i == 0 and w not in level1:\n",
    "                    level1.append(w)\n",
    "                    g.addVertex(w)\n",
    "                    g.addEdge(root,w) # g.addEdge(from vertex,to vertex)\n",
    "            elif i==1:\n",
    "                if w not in level2:\n",
    "                    level2.append(w)\n",
    "                    g.addVertex(w)\n",
    "                    g.addEdge(word[i-1],w)\n",
    "                else:\n",
    "                    g.addEdge(word[i-1],w)\n",
    "\n",
    "    elif len(word)==1:\n",
    "        w = word[0]\n",
    "        if w not in level1:\n",
    "            level1.append(w)\n",
    "            g.addVertex(w)\n",
    "            g.addEdge(root,w) # g.addEdge(from vertex,to vertex)"
   ]
  },
  {
   "cell_type": "code",
   "execution_count": 50,
   "metadata": {},
   "outputs": [
    {
     "name": "stdout",
     "output_type": "stream",
     "text": [
      "protein ['CCR', 'HIV 1', 'CD4', 'CCR 5']  in sentence 1\n",
      "protein ['JAK2', 'ABC', 'ABC 1', 'Raf-1', 'ABC 1 DE']  in sentence 2\n",
      "protein ['hsp90', 'hsp70', 'p60', 'hsp90 p60 hsp70']  in sentence 3\n"
     ]
    }
   ],
   "source": [
    "for k in range(len(file)):\n",
    "    sentence_ = file[k]    \n",
    "    sentence_ = \"\".join(sentence_)\n",
    "    sentence_ =sentence_.strip()\n",
    "    sentence=sentence_.split(\" \")\n",
    "    #print(sentence)\n",
    "    p_name =[]\n",
    "    for m in range(len(sentence)):\n",
    "        word = sentence[m]\n",
    "        if word in level1 and m+2 <=len(sentence): # check the character whether in level1 nodes\n",
    "            if sentence[m+1] in level2:         # chech the next character whether in level2 nodes\n",
    "                if sentence[m+2] in level3:     # chech the next 2 character whether in level3 nodes \n",
    "                    for v in g:                        \n",
    "                        if v.getId()==word:\n",
    "                            for child in v.getConnections():\n",
    "                                if child.getId() == sentence[m+1]:\n",
    "                                    for ch in child.getConnections():\n",
    "                                        if ch.getId()==sentence[m+2]:   # check whether next 2 character connectto start \n",
    "                                            p_name_ = \" \".join(sentence[m:m+3])\n",
    "                                            if p_name_ not in p_name:\n",
    "                                                p_name.append(p_name_)\n",
    "                else:\n",
    "                    for v in g:\n",
    "                        if v.getId()==word:\n",
    "                            for child in v.getConnections():\n",
    "                                if child.getId() == sentence[m+1]:\n",
    "                                    p_name_ = \" \".join(sentence[m:m+2])\n",
    "                                    if p_name_ not in p_name:\n",
    "                                        p_name.append(p_name_)\n",
    "            else:\n",
    "                if word not in p_name:\n",
    "                    p_name.append(word)\n",
    "\n",
    "    print(\"protein %s  in sentence %d\"%(p_name,k+1))"
   ]
  }
 ],
 "metadata": {
  "kernelspec": {
   "display_name": "Python 3",
   "language": "python",
   "name": "python3"
  },
  "language_info": {
   "codemirror_mode": {
    "name": "ipython",
    "version": 3
   },
   "file_extension": ".py",
   "mimetype": "text/x-python",
   "name": "python",
   "nbconvert_exporter": "python",
   "pygments_lexer": "ipython3",
   "version": "3.8.3"
  }
 },
 "nbformat": 4,
 "nbformat_minor": 4
}
