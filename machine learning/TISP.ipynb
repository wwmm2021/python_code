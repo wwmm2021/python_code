{
 "cells": [
  {
   "cell_type": "markdown",
   "metadata": {},
   "source": [
    "problem  a  :     \\\n",
    "plot iteration VS misclassifier in line [290]\\\n",
    "the value of lambda:\\\n",
    "[0.19, 0.133, 0.0875, 0.053, 0.0385]\\\n",
    "the number of features:\\\n",
    "[10, 30, 101, 299, 503]\\\n",
    "the train misclassifier:\\\n",
    "[0.1213333333333333,\n",
    " 0.07133333333333336,\n",
    " 0.03183333333333338,\n",
    " 0.012499999999999956,\n",
    " 0.007833333333333359]\\\n",
    "the test misclassifier :\\\n",
    "[0.122,\n",
    " 0.07899999999999996,\n",
    " 0.03300000000000003,\n",
    " 0.017000000000000015,\n",
    " 0.013000000000000012]"
   ]
  },
  {
   "cell_type": "markdown",
   "metadata": {},
   "source": [
    "problem  b  :     \\\n",
    "plot iteration VS misclassifier in line [299]\\\n",
    "the value of lambda:\\\n",
    "[0.14, 0.098, 0.07, 0.0523, 0.0465]\\\n",
    "the number of features:\\\n",
    "[11, 30, 103, 299, 507]\\\n",
    "the train misclassifier:\\\n",
    "[0.12, 0.050000000000000044, 0.01666666666666672, 0.0, 0.0]\\\n",
    "the test misclassifier :\\\n",
    "[0.17333333333333334,\n",
    " 0.1166666666666667,\n",
    " 0.08999999999999997,\n",
    " 0.06333333333333335,\n",
    " 0.07999999999999996]"
   ]
  },
  {
   "cell_type": "markdown",
   "metadata": {},
   "source": [
    "problem c :\\\n",
    "plot iteration VS misclassifier in line [310]\\\n",
    "the value of lambda:\\\n",
    "[0.0298, 0.025, 0.017, 0.0074, 0.0001]\\\n",
    "the number of features:\\\n",
    "[8, 28, 101, 299, 497]\\\n",
    "the train misclassifier:\\\n",
    "[0.386, 0.37050000000000005, 0.3255, 0.27049999999999996, 0.25849999999999995]\\\n",
    "the test misclassifier :\\\n",
    "[0.4016666666666666,\n",
    " 0.4116666666666666,\n",
    " 0.43833333333333335,\n",
    " 0.43333333333333335,\n",
    " 0.42333333333333334]"
   ]
  },
  {
   "cell_type": "code",
   "execution_count": 278,
   "metadata": {},
   "outputs": [],
   "source": [
    "import numpy as np\n",
    "import pandas as pd\n",
    "import matplotlib.pyplot as plt\n",
    "from sklearn.preprocessing import StandardScaler\n",
    "from sklearn.metrics import accuracy_score"
   ]
  },
  {
   "cell_type": "code",
   "execution_count": 279,
   "metadata": {},
   "outputs": [],
   "source": [
    "def predict(y,y_label,w):\n",
    "    size = y_label.shape[0]\n",
    "    p = 1/(1+np.exp(y@w))\n",
    "    y_pred = np.zeros((size,1))\n",
    "    y_pred[p<0.5] = 1\n",
    "    err = 1-accuracy_score(y_label,y_pred)\n",
    "    return err"
   ]
  },
  {
   "cell_type": "code",
   "execution_count": 280,
   "metadata": {},
   "outputs": [],
   "source": [
    "# define the normalize \n",
    "def scaler(x):\n",
    "    scaler = StandardScaler()\n",
    "    scaler = scaler.fit(x)\n",
    "    y = scaler.fit(x).transform(x)\n",
    "    return y"
   ]
  },
  {
   "cell_type": "code",
   "execution_count": 281,
   "metadata": {},
   "outputs": [],
   "source": [
    "def TISP(x,y,lamda,itera):\n",
    "    w = np.zeros(x.shape[1])\n",
    "    eta=1/x.shape[0]\n",
    "    for j in range(itera):\n",
    "        sig=1/(1+np.exp(-x@w))\n",
    "        y_ = y - sig\n",
    "        w=w+eta*x.T@y_\n",
    "        for i in range(w.shape[0]):\n",
    "            if abs(w[i])<=lamda:\n",
    "                w[i]=0\n",
    "    return w"
   ]
  },
  {
   "cell_type": "code",
   "execution_count": 282,
   "metadata": {},
   "outputs": [],
   "source": [
    "def TISP_300(x,y,lamda,itera):\n",
    "    w = np.zeros(x.shape[1])\n",
    "    eta=1/x.shape[0]\n",
    "    err = []\n",
    "    for j in range(itera):\n",
    "        sig=1/(1+np.exp(-x@w))\n",
    "        y_ = y - sig\n",
    "        w=w+eta*x.T@y_\n",
    "        for i in range(w.shape[0]):\n",
    "            if abs(w[i])<=lamda:\n",
    "                w[i]=0\n",
    "        err_ = predict(x,y,w)\n",
    "        err.append(err_)\n",
    "    return err"
   ]
  },
  {
   "cell_type": "code",
   "execution_count": 284,
   "metadata": {},
   "outputs": [],
   "source": [
    "####  problem a   ####\n",
    "# import data \n",
    "X_train = np.loadtxt(r\"D:\\2020fall\\5635 machine learning\\5635 hw\\hw4\\Gisette\\gisette_train.data\")\n",
    "train_label = np.loadtxt(R\"D:\\2020fall\\5635 machine learning\\5635 hw\\hw4\\Gisette\\gisette_train.labels\")\n",
    "X_test = np.loadtxt(r\"D:\\2020fall\\5635 machine learning\\5635 hw\\hw4\\Gisette\\gisette_valid.data\")\n",
    "test_label = np.loadtxt(r\"D:\\2020fall\\5635 machine learning\\5635 hw\\hw4\\Gisette\\gisette_valid.labels\")"
   ]
  },
  {
   "cell_type": "code",
   "execution_count": 285,
   "metadata": {},
   "outputs": [],
   "source": [
    "# add a column to the data\n",
    "X_train = np.hstack((np.ones((np.shape(X_train)[0],1),dtype=int),X_train))\n",
    "X_test = np.hstack((np.ones((np.shape(X_test)[0],1),dtype=int),X_test))"
   ]
  },
  {
   "cell_type": "code",
   "execution_count": 286,
   "metadata": {},
   "outputs": [],
   "source": [
    "# normalize data\n",
    "X_train = scaler(X_train)\n",
    "X_test = scaler(X_test)"
   ]
  },
  {
   "cell_type": "code",
   "execution_count": 287,
   "metadata": {},
   "outputs": [],
   "source": [
    "train_label = (train_label+1)/2\n",
    "test_label = (test_label+1)/2"
   ]
  },
  {
   "cell_type": "code",
   "execution_count": 288,
   "metadata": {},
   "outputs": [
    {
     "name": "stdout",
     "output_type": "stream",
     "text": [
      "(6000, 5001) (6000,) (1000, 5001) (1000,)\n"
     ]
    }
   ],
   "source": [
    "print(X_train.shape,train_label.shape,X_test.shape,test_label.shape)"
   ]
  },
  {
   "cell_type": "code",
   "execution_count": 289,
   "metadata": {},
   "outputs": [],
   "source": [
    "iteration = 100"
   ]
  },
  {
   "cell_type": "code",
   "execution_count": 290,
   "metadata": {
    "scrolled": false
   },
   "outputs": [
    {
     "data": {
      "text/plain": [
       "Text(0, 0.5, 'train misclassifier error')"
      ]
     },
     "execution_count": 290,
     "metadata": {},
     "output_type": "execute_result"
    },
    {
     "data": {
      "image/png": "[encoded data removed]",
      "text/plain": [
       "<Figure size 432x288 with 1 Axes>"
      ]
     },
     "metadata": {
      "needs_background": "light"
     },
     "output_type": "display_data"
    }
   ],
   "source": [
    "#####  plot train error VS iteration number\n",
    "lamda = 0.053\n",
    "tr_err = TISP_300(X_train,train_label,lamda,iteration)\n",
    "plt.plot(np.arange(iteration)+1,tr_err)\n",
    "plt.xlabel('iteration number')\n",
    "plt.ylabel('train misclassifier error')"
   ]
  },
  {
   "cell_type": "code",
   "execution_count": 291,
   "metadata": {
    "scrolled": true
   },
   "outputs": [],
   "source": [
    "count = []\n",
    "train_err = []\n",
    "test_err = []\n",
    "lamd = []\n",
    "for lamda in [0.19,0.133,0.0875,0.053,0.0385]:\n",
    "    weights = TISP(X_train,train_label,lamda,iteration)\n",
    "    count_ = np.count_nonzero(weights)\n",
    "    train_err_ = predict(X_train,train_label,weights)\n",
    "    train_err.append(train_err_)\n",
    "    test_err_ = predict(X_test,test_label,weights)\n",
    "    test_err.append(test_err_)\n",
    "    lamd.append(lamda)\n",
    "    count.append(count_)"
   ]
  },
  {
   "cell_type": "code",
   "execution_count": 292,
   "metadata": {
    "scrolled": false
   },
   "outputs": [
    {
     "data": {
      "text/plain": [
       "[0.19, 0.133, 0.0875, 0.053, 0.0385]"
      ]
     },
     "metadata": {},
     "output_type": "display_data"
    },
    {
     "data": {
      "text/plain": [
       "[10, 30, 101, 299, 503]"
      ]
     },
     "metadata": {},
     "output_type": "display_data"
    },
    {
     "data": {
      "text/plain": [
       "[0.1213333333333333,\n",
       " 0.07133333333333336,\n",
       " 0.03183333333333338,\n",
       " 0.012499999999999956,\n",
       " 0.007833333333333359]"
      ]
     },
     "metadata": {},
     "output_type": "display_data"
    },
    {
     "data": {
      "text/plain": [
       "[0.122,\n",
       " 0.07899999999999996,\n",
       " 0.03300000000000003,\n",
       " 0.017000000000000015,\n",
       " 0.013000000000000012]"
      ]
     },
     "metadata": {},
     "output_type": "display_data"
    }
   ],
   "source": [
    "display(lamd,count,train_err,test_err)"
   ]
  },
  {
   "cell_type": "code",
   "execution_count": 293,
   "metadata": {},
   "outputs": [],
   "source": [
    "#####    problem b     #####"
   ]
  },
  {
   "cell_type": "code",
   "execution_count": 294,
   "metadata": {},
   "outputs": [],
   "source": [
    "# data import\n",
    "# Xtr = parsFormTrans(r\"D:\\2020fall\\5635 machine learning\\5635 hw\\hw4\\dexter\\dexter_train.data\")\n",
    "Xtr = pd.read_csv('dexter_train.csv',header = None)\n",
    "ytr_label = np.loadtxt(R\"D:\\2020fall\\5635 machine learning\\5635 hw\\hw4\\dexter\\dexter_train.labels\")\n",
    "# Xte = parsFormTrans(r\"D:\\2020fall\\5635 machine learning\\5635 hw\\hw4\\dexter\\dexter_valid.data\")\n",
    "Xte = pd.read_csv('dexter_valid.csv',header = None)\n",
    "yte_label = np.loadtxt(r\"D:\\2020fall\\5635 machine learning\\5635 hw\\hw4\\dexter\\dexter_valid.labels\")"
   ]
  },
  {
   "cell_type": "code",
   "execution_count": 295,
   "metadata": {},
   "outputs": [],
   "source": [
    "# add a column to the data\n",
    "Xtr = np.hstack((np.ones((np.shape(Xtr)[0],1),dtype=int),Xtr))\n",
    "Xte = np.hstack((np.ones((np.shape(Xte)[0],1),dtype=int),Xte))"
   ]
  },
  {
   "cell_type": "code",
   "execution_count": 296,
   "metadata": {},
   "outputs": [],
   "source": [
    "ytr_label = (ytr_label+1)/2\n",
    "yte_label = (yte_label+1)/2"
   ]
  },
  {
   "cell_type": "code",
   "execution_count": 297,
   "metadata": {},
   "outputs": [],
   "source": [
    "# normalizedata\n",
    "Xtr = scaler(Xtr)\n",
    "Xte = scaler(Xte)"
   ]
  },
  {
   "cell_type": "code",
   "execution_count": 298,
   "metadata": {},
   "outputs": [
    {
     "name": "stdout",
     "output_type": "stream",
     "text": [
      "(300, 20001) (300,) (300, 20001) (300,)\n"
     ]
    }
   ],
   "source": [
    "print(Xtr.shape,ytr_label.shape,Xte.shape,yte_label.shape)"
   ]
  },
  {
   "cell_type": "code",
   "execution_count": 299,
   "metadata": {},
   "outputs": [
    {
     "data": {
      "text/plain": [
       "Text(0, 0.5, 'train misclassifier error')"
      ]
     },
     "execution_count": 299,
     "metadata": {},
     "output_type": "execute_result"
    },
    {
     "data": {
      "image/png": "[encoded data removed]",
      "text/plain": [
       "<Figure size 432x288 with 1 Axes>"
      ]
     },
     "metadata": {
      "needs_background": "light"
     },
     "output_type": "display_data"
    }
   ],
   "source": [
    "#####  plot train error VS iteration number\n",
    "lamda = 0.0523\n",
    "tr_err = TISP_300(Xtr,ytr_label,lamda,iteration)\n",
    "plt.plot(np.arange(iteration)+1,tr_err)\n",
    "plt.xlabel('iteration number')\n",
    "plt.ylabel('train misclassifier error')"
   ]
  },
  {
   "cell_type": "code",
   "execution_count": 300,
   "metadata": {},
   "outputs": [
    {
     "data": {
      "text/plain": [
       "[0.14, 0.098, 0.07, 0.0523, 0.0465]"
      ]
     },
     "metadata": {},
     "output_type": "display_data"
    },
    {
     "data": {
      "text/plain": [
       "[11, 30, 103, 299, 507]"
      ]
     },
     "metadata": {},
     "output_type": "display_data"
    },
    {
     "data": {
      "text/plain": [
       "[0.12, 0.050000000000000044, 0.01666666666666672, 0.0, 0.0]"
      ]
     },
     "metadata": {},
     "output_type": "display_data"
    },
    {
     "data": {
      "text/plain": [
       "[0.17333333333333334,\n",
       " 0.1166666666666667,\n",
       " 0.08999999999999997,\n",
       " 0.06333333333333335,\n",
       " 0.07999999999999996]"
      ]
     },
     "metadata": {},
     "output_type": "display_data"
    }
   ],
   "source": [
    "count = []\n",
    "train_err = []\n",
    "test_err = []\n",
    "lamd = []\n",
    "for lamda in [0.14,0.098,0.07,0.0523,0.0465]:\n",
    "    weights = TISP(Xtr,ytr_label,lamda,iteration)\n",
    "    count_ = np.count_nonzero(weights)\n",
    "    train_err_ = predict(Xtr,ytr_label,weights)\n",
    "    train_err.append(train_err_)\n",
    "    test_err_ = predict(Xte,yte_label,weights)\n",
    "    test_err.append(test_err_)\n",
    "    lamd.append(lamda)\n",
    "    count.append(count_)\n",
    "display(lamd,count,train_err,test_err)"
   ]
  },
  {
   "cell_type": "code",
   "execution_count": 301,
   "metadata": {},
   "outputs": [],
   "source": [
    "#####    problem c     #####"
   ]
  },
  {
   "cell_type": "code",
   "execution_count": 302,
   "metadata": {},
   "outputs": [],
   "source": [
    "# data import\n",
    "train_data = np.loadtxt(r\"D:\\2020fall\\5635 machine learning\\5635 hw\\hw4\\madelon\\madelon_train.data\")\n",
    "train_label = np.loadtxt(R\"D:\\2020fall\\5635 machine learning\\5635 hw\\hw4\\madelon\\madelon_train.labels\")\n",
    "test_data = np.loadtxt(r\"D:\\2020fall\\5635 machine learning\\5635 hw\\hw4\\madelon\\madelon_valid.data\")\n",
    "test_label = np.loadtxt(r\"D:\\2020fall\\5635 machine learning\\5635 hw\\hw4\\madelon\\madelon_valid.labels\")"
   ]
  },
  {
   "cell_type": "code",
   "execution_count": 303,
   "metadata": {},
   "outputs": [],
   "source": [
    "# add a column to the data\n",
    "train_data = np.hstack((np.ones((np.shape(train_data)[0],1),dtype=int),train_data))\n",
    "test_data = np.hstack((np.ones((np.shape(test_data)[0],1),dtype=int),test_data))"
   ]
  },
  {
   "cell_type": "code",
   "execution_count": 304,
   "metadata": {},
   "outputs": [],
   "source": [
    "train_label = (train_label+1)/2\n",
    "test_label = (test_label +1)/2"
   ]
  },
  {
   "cell_type": "code",
   "execution_count": 305,
   "metadata": {},
   "outputs": [],
   "source": [
    "# normalizedata\n",
    "train_data = scaler(train_data)\n",
    "test_data = scaler(test_data )"
   ]
  },
  {
   "cell_type": "code",
   "execution_count": 306,
   "metadata": {},
   "outputs": [
    {
     "name": "stdout",
     "output_type": "stream",
     "text": [
      "(2000, 501) (2000,) (600, 501) (600,)\n"
     ]
    }
   ],
   "source": [
    "print(train_data.shape,train_label.shape,test_data.shape,test_label.shape)"
   ]
  },
  {
   "cell_type": "code",
   "execution_count": 309,
   "metadata": {},
   "outputs": [],
   "source": [
    "# lamda = 0.0001\n",
    "# weights = TISP(train_data,train_label,lamda,iteration)\n",
    "# count_ = np.count_nonzero(weights)\n",
    "# print(count_)"
   ]
  },
  {
   "cell_type": "code",
   "execution_count": 310,
   "metadata": {},
   "outputs": [
    {
     "data": {
      "text/plain": [
       "Text(0, 0.5, 'train misclassifier error')"
      ]
     },
     "execution_count": 310,
     "metadata": {},
     "output_type": "execute_result"
    },
    {
     "data": {
      "image/png": "[encoded data removed]",
      "text/plain": [
       "<Figure size 432x288 with 1 Axes>"
      ]
     },
     "metadata": {
      "needs_background": "light"
     },
     "output_type": "display_data"
    }
   ],
   "source": [
    "#####  plot train error VS iteration number\n",
    "lamda = 0.0074\n",
    "tr_err = TISP_300(train_data,train_label,lamda,iteration)\n",
    "plt.plot(np.arange(iteration)+1,tr_err)\n",
    "plt.xlabel('iteration number')\n",
    "plt.ylabel('train misclassifier error')"
   ]
  },
  {
   "cell_type": "code",
   "execution_count": 311,
   "metadata": {},
   "outputs": [
    {
     "data": {
      "text/plain": [
       "[0.0298, 0.025, 0.017, 0.0074, 0.0001]"
      ]
     },
     "metadata": {},
     "output_type": "display_data"
    },
    {
     "data": {
      "text/plain": [
       "[8, 28, 101, 299, 497]"
      ]
     },
     "metadata": {},
     "output_type": "display_data"
    },
    {
     "data": {
      "text/plain": [
       "[0.386, 0.37050000000000005, 0.3255, 0.27049999999999996, 0.25849999999999995]"
      ]
     },
     "metadata": {},
     "output_type": "display_data"
    },
    {
     "data": {
      "text/plain": [
       "[0.4016666666666666,\n",
       " 0.4116666666666666,\n",
       " 0.43833333333333335,\n",
       " 0.43333333333333335,\n",
       " 0.42333333333333334]"
      ]
     },
     "metadata": {},
     "output_type": "display_data"
    }
   ],
   "source": [
    "count = []\n",
    "train_err = []\n",
    "test_err = []\n",
    "lamd = []\n",
    "for lamda in [0.0298,0.025,0.017,0.0074,0.0001]:\n",
    "    weights = TISP(train_data,train_label,lamda,iteration)\n",
    "    count_ = np.count_nonzero(weights)\n",
    "    train_err_ = predict(train_data,train_label,weights)\n",
    "    train_err.append(train_err_)\n",
    "    test_err_ = predict(test_data,test_label,weights)\n",
    "    test_err.append(test_err_)\n",
    "    lamd.append(lamda)\n",
    "    count.append(count_)\n",
    "display(lamd,count,train_err,test_err)"
   ]
  }
 ],
 "metadata": {
  "kernelspec": {
   "display_name": "Python 3",
   "language": "python",
   "name": "python3"
  },
  "language_info": {
   "codemirror_mode": {
    "name": "ipython",
    "version": 3
   },
   "file_extension": ".py",
   "mimetype": "text/x-python",
   "name": "python",
   "nbconvert_exporter": "python",
   "pygments_lexer": "ipython3",
   "version": "3.8.3"
  }
 },
 "nbformat": 4,
 "nbformat_minor": 4
}
