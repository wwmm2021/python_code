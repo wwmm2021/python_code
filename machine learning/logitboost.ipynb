{
 "cells": [
  {
   "cell_type": "code",
   "execution_count": 2,
   "metadata": {},
   "outputs": [],
   "source": [
    "import numpy as np\n",
    "import pandas as pd\n",
    "import matplotlib.pyplot as plt\n",
    "from sklearn.preprocessing import normalize\n",
    "from sklearn.preprocessing import StandardScaler\n",
    "from sklearn.metrics import accuracy_score"
   ]
  },
  {
   "cell_type": "code",
   "execution_count": 3,
   "metadata": {},
   "outputs": [],
   "source": [
    "def scaler(x):\n",
    "    scaler = StandardScaler()\n",
    "    scaler = scaler.fit(x)\n",
    "    y = scaler.fit(x).transform(x)\n",
    "    return y"
   ]
  },
  {
   "cell_type": "code",
   "execution_count": 4,
   "metadata": {},
   "outputs": [],
   "source": [
    "# import data \n",
    "X_train = np.loadtxt(r\"D:\\2020fall\\5635 machine learning\\5635 hw\\hw3\\Gisette\\gisette_train.data\")\n",
    "X_label = np.loadtxt(R\"D:\\2020fall\\5635 machine learning\\5635 hw\\hw3\\Gisette\\gisette_train.labels\")\n",
    "y_test = np.loadtxt(r\"D:\\2020fall\\5635 machine learning\\5635 hw\\hw3\\Gisette\\gisette_valid.data\")\n",
    "y_label = np.loadtxt(r\"D:\\2020fall\\5635 machine learning\\5635 hw\\hw3\\Gisette\\gisette_valid.labels\")"
   ]
  },
  {
   "cell_type": "code",
   "execution_count": 5,
   "metadata": {},
   "outputs": [],
   "source": [
    "# normalize  and mat data\n",
    "X_train = scaler(X_train)\n",
    "y_test = scaler(y_test)"
   ]
  },
  {
   "cell_type": "code",
   "execution_count": 6,
   "metadata": {},
   "outputs": [
    {
     "name": "stdout",
     "output_type": "stream",
     "text": [
      "6000 5000\n"
     ]
    }
   ],
   "source": [
    "n,m = X_train.shape\n",
    "print(n,m)"
   ]
  },
  {
   "cell_type": "code",
   "execution_count": 14,
   "metadata": {},
   "outputs": [],
   "source": [
    "for k in [10,30,100,300,500]:\n",
    "    n,m = X_train.shape\n",
    "    Y = X_label\n",
    "    h = np.zeros(n)\n",
    "    err = []\n",
    "    p = []\n",
    "    p = 1/(1+np.exp(-h))\n",
    "    w = []\n",
    "    z = []\n",
    "    w = p*(1-p)\n",
    "    zz = (0.5*(Y+1)-p)\n",
    "    with np.errstate(divide='ignore', invalid='ignore'):\n",
    "        z= np.true_divide(zz,w)\n",
    "        z[z == np.inf] = 0\n",
    "        z = np.nan_to_num(z)\n",
    "    for i in range(k):\n",
    "        for j in range(m):\n",
    "#             X_ = X[:,j]\n",
    "            a = np.sum(w)\n",
    "            b = np.sum(w*X_train[:,j],axis=0)\n",
    "            if a == 0 :\n",
    "                x_ = 0\n",
    "            else:\n",
    "                x_ = b/a\n",
    "            if a == 0 :\n",
    "                z_ = 0\n",
    "            else:\n",
    "                z_ =np.sum(w*z,axis=0)/a\n",
    "            beta = np.sum(w*(z - z_)*(X_train[:,j]-x_))\n",
    "            beta111 = np.dot((X_train[:,j]-x_),(X_train[:,j]-x_).T)\n",
    "            beta_ = np.sum(w*beta111)\n",
    "            if beta_ == 0 :\n",
    "                beta1 = 0\n",
    "            else:\n",
    "                beta1 = beta/beta_\n",
    "            beta0_= z_ - beta1*x_\n",
    "            hx=[]\n",
    "            hx= beta1*X_train[:,j]+beta0_\n",
    "            h =  h +hx\n",
    "            p = 1/(1+np.exp(-h))\n",
    "            w = p*(1-p)\n",
    "            zz = (0.5*(Y+1)-p)\n",
    "            with np.errstate(divide='ignore', invalid='ignore'):\n",
    "                z= np.true_divide(zz,w)\n",
    "                z[z == np.inf] = 0\n",
    "                z = np.nan_to_num(z)\n",
    "    pre =[]\n",
    "    pre = np.sign(h)\n",
    "    acc = np.sum(np.abs(pre - Y)/2)\n",
    "    err_ = acc/n\n",
    "    err.append(err_)"
   ]
  },
  {
   "cell_type": "code",
   "execution_count": 13,
   "metadata": {},
   "outputs": [
    {
     "name": "stdout",
     "output_type": "stream",
     "text": [
      "[0.11116666666666666]\n"
     ]
    }
   ],
   "source": [
    "print(err)"
   ]
  }
 ],
 "metadata": {
  "kernelspec": {
   "display_name": "Python 3",
   "language": "python",
   "name": "python3"
  },
  "language_info": {
   "codemirror_mode": {
    "name": "ipython",
    "version": 3
   },
   "file_extension": ".py",
   "mimetype": "text/x-python",
   "name": "python",
   "nbconvert_exporter": "python",
   "pygments_lexer": "ipython3",
   "version": "3.8.3"
  }
 },
 "nbformat": 4,
 "nbformat_minor": 4
}
