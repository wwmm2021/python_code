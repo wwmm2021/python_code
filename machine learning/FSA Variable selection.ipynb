{
 "cells": [
  {
   "cell_type": "code",
   "execution_count": 1,
   "metadata": {},
   "outputs": [],
   "source": [
    "import numpy as np\n",
    "import pandas as pd\n",
    "import matplotlib.pyplot as plt\n",
    "from sklearn.preprocessing import normalize\n",
    "from sklearn.preprocessing import StandardScaler\n",
    "from sklearn.metrics import accuracy_score"
   ]
  },
  {
   "cell_type": "code",
   "execution_count": 38,
   "metadata": {},
   "outputs": [],
   "source": [
    "#define a gradient ascent\n",
    "def grade(X,X_label,w,eta,s):\n",
    "    grad_ = X.T@(X_label - np.exp(X@w)/(1+np.exp(X@w)))\n",
    "    w = w*(1+2*s) + eta*grad_/X.shape[0]\n",
    "    return w"
   ]
  },
  {
   "cell_type": "code",
   "execution_count": 39,
   "metadata": {},
   "outputs": [],
   "source": [
    "def predict(y,y_label,w):\n",
    "    size = y_label.shape[0]\n",
    "    p = 1/(1+np.exp(y@w))\n",
    "    y_pred = np.zeros((size,1))\n",
    "    y_pred[p<0.5] = 1\n",
    "    err = 1-accuracy_score(y_label,y_pred)\n",
    "    return err"
   ]
  },
  {
   "cell_type": "code",
   "execution_count": 40,
   "metadata": {},
   "outputs": [],
   "source": [
    "#define variable elimination schedule\n",
    "def M(k,n,iter,u,i):\n",
    "    if (iter-2*i)/(2*i*u+iter) <0:\n",
    "        M_=k\n",
    "    else:         \n",
    "        M_ = k + (n-k)*(iter-2*i)/(2*i*u+iter)\n",
    "    M = int(M_)\n",
    "    return M    "
   ]
  },
  {
   "cell_type": "code",
   "execution_count": 41,
   "metadata": {},
   "outputs": [],
   "source": [
    "#define a function to find out m_th biggest value\n",
    "def FSA(n,w,m):\n",
    "    i= 0\n",
    "    w_ = {}\n",
    "    for i in range(n):\n",
    "        w_[i]=np.abs(w[i])\n",
    "    weight_ = sorted(w_.items(),key = lambda x:x[1],reverse = True)\n",
    "    value_ = weight_[m]\n",
    "    value = value_[1]\n",
    "    return value\n"
   ]
  },
  {
   "cell_type": "code",
   "execution_count": 42,
   "metadata": {},
   "outputs": [],
   "source": [
    "# update weight\n",
    "def update(n,w,key):\n",
    "    for i in range(n):\n",
    "        if w[i] <key:\n",
    "            w[i]=0\n",
    "    return w"
   ]
  },
  {
   "cell_type": "code",
   "execution_count": 43,
   "metadata": {},
   "outputs": [],
   "source": [
    "# define the normalize \n",
    "def scaler(x):\n",
    "    scaler = StandardScaler()\n",
    "    scaler = scaler.fit(x)\n",
    "    y = scaler.fit(x).transform(x)\n",
    "    return y"
   ]
  },
  {
   "cell_type": "code",
   "execution_count": 44,
   "metadata": {},
   "outputs": [],
   "source": [
    "# import data \n",
    "X_train = np.loadtxt(r\"D:\\2020fall\\5635 machine learning\\5635 hw\\hw3\\Gisette\\gisette_train.data\")\n",
    "X_label = np.loadtxt(R\"D:\\2020fall\\5635 machine learning\\5635 hw\\hw3\\Gisette\\gisette_train.labels\")\n",
    "y_test = np.loadtxt(r\"D:\\2020fall\\5635 machine learning\\5635 hw\\hw3\\Gisette\\gisette_valid.data\")\n",
    "y_label = np.loadtxt(r\"D:\\2020fall\\5635 machine learning\\5635 hw\\hw3\\Gisette\\gisette_valid.labels\")"
   ]
  },
  {
   "cell_type": "code",
   "execution_count": 45,
   "metadata": {},
   "outputs": [],
   "source": [
    "X_label = (X_label+1)/2\n",
    "y_label = (y_label+1)/2"
   ]
  },
  {
   "cell_type": "code",
   "execution_count": 46,
   "metadata": {},
   "outputs": [],
   "source": [
    "# add a column to the data\n",
    "X_train = np.hstack((np.ones((np.shape(X_train)[0],1),dtype=int),X_train))\n",
    "y_test = np.hstack((np.ones((np.shape(y_test)[0],1),dtype=int),y_test))"
   ]
  },
  {
   "cell_type": "code",
   "execution_count": 47,
   "metadata": {},
   "outputs": [],
   "source": [
    "# normalize  and mat data\n",
    "X_train = scaler(X_train)\n",
    "y_test = scaler(y_test)"
   ]
  },
  {
   "cell_type": "code",
   "execution_count": 48,
   "metadata": {
    "scrolled": true
   },
   "outputs": [
    {
     "name": "stdout",
     "output_type": "stream",
     "text": [
      "(6000, 5001) (6000,) (1000, 5001) (1000,)\n"
     ]
    }
   ],
   "source": [
    "print(X_train.shape,X_label.shape,y_test.shape,y_label.shape)"
   ]
  },
  {
   "cell_type": "code",
   "execution_count": 49,
   "metadata": {},
   "outputs": [],
   "source": [
    "m,n = np.shape(X_train)\n",
    "u = 30\n",
    "s = 0.0001\n",
    "iter = 500\n",
    "eta = 1/m"
   ]
  },
  {
   "cell_type": "code",
   "execution_count": 50,
   "metadata": {},
   "outputs": [],
   "source": [
    "m,n = np.shape(X_train)\n",
    "i=0\n",
    "tr_err_= []\n",
    "k_=30\n",
    "w = np.zeros((n))\n",
    "x = []\n",
    "for i in range(iter):\n",
    "    w = grade(X_train,X_label,w,eta,s)\n",
    "    M_ = M(k_,n,iter,u,i)-1\n",
    "#         print(M_)\n",
    "    value = FSA(n,w,M_)\n",
    "    w = update(n,w,value)\n",
    "    train_err = predict(X_train,X_label,w)\n",
    "#         print(np.sum(w==0))\n",
    "    tr_err_.append(train_err)\n",
    "    x.append(i)"
   ]
  },
  {
   "cell_type": "code",
   "execution_count": 51,
   "metadata": {},
   "outputs": [
    {
     "data": {
      "text/plain": [
       "Text(0, 0.5, 'train misclassifier error')"
      ]
     },
     "execution_count": 51,
     "metadata": {},
     "output_type": "execute_result"
    },
    {
     "data": {
      "image/png": "[encoded data removed]",
      "text/plain": [
       "<Figure size 432x288 with 1 Axes>"
      ]
     },
     "metadata": {
      "needs_background": "light"
     },
     "output_type": "display_data"
    }
   ],
   "source": [
    "# plt.plot(x,tr_err_)\n",
    "plt.plot(np.arange(iter)+1,tr_err_)\n",
    "plt.xlabel('iteration number')\n",
    "plt.ylabel('train misclassifier error')"
   ]
  },
  {
   "cell_type": "code",
   "execution_count": 52,
   "metadata": {},
   "outputs": [],
   "source": [
    "i=0\n",
    "tr_err = []\n",
    "te_err = []\n",
    "K = []\n",
    "for k in [10,30,100,300,500]:\n",
    "    w = np.zeros((n))\n",
    "    for i in range(iter):\n",
    "        w = grade(X_train,X_label,w,eta,s)\n",
    "        M_ = M(k,n,iter,u,i)-1\n",
    "#         print(M_)\n",
    "        value = FSA(n,w,M_)\n",
    "        w = update(n,w,value)\n",
    "    train_err = predict(X_train,X_label,w)\n",
    "    test_err = predict(y_test,y_label,w)\n",
    "#         print(np.sum(w==0))\n",
    "    tr_err.append(train_err)\n",
    "    te_err.append(test_err)\n",
    "    K.append(k)"
   ]
  },
  {
   "cell_type": "code",
   "execution_count": 53,
   "metadata": {
    "scrolled": true
   },
   "outputs": [
    {
     "data": {
      "text/plain": [
       "<matplotlib.legend.Legend at 0x2bcb9103070>"
      ]
     },
     "execution_count": 53,
     "metadata": {},
     "output_type": "execute_result"
    },
    {
     "data": {
      "image/png": "[encoded data removed]",
      "text/plain": [
       "<Figure size 432x288 with 1 Axes>"
      ]
     },
     "metadata": {
      "needs_background": "light"
     },
     "output_type": "display_data"
    }
   ],
   "source": [
    "plt.figure()\n",
    "plt.plot(K,tr_err,'b*-',label = 'train err')\n",
    "plt.plot(K,te_err,'r.-',label = 'test err')\n",
    "plt.xlabel('K features select')\n",
    "plt.ylabel('errs in training')\n",
    "plt.legend()"
   ]
  },
  {
   "cell_type": "code",
   "execution_count": 74,
   "metadata": {},
   "outputs": [],
   "source": [
    "# data import\n",
    "Xtr = pd.read_csv('dexter_train.csv',header = None)\n",
    "ytr_label = np.loadtxt(R\"D:\\2020fall\\5635 machine learning\\5635 hw\\hw3\\dexter\\dexter_train.labels\")\n",
    "Xte = pd.read_csv('dexter_valid.csv',header = None)\n",
    "yte_label = np.loadtxt(r\"D:\\2020fall\\5635 machine learning\\5635 hw\\hw3\\dexter\\dexter_valid.labels\")"
   ]
  },
  {
   "cell_type": "code",
   "execution_count": null,
   "metadata": {},
   "outputs": [],
   "source": [
    "# print(ytr_label)"
   ]
  },
  {
   "cell_type": "code",
   "execution_count": 75,
   "metadata": {},
   "outputs": [],
   "source": [
    "ytr_label = (ytr_label+1)/2\n",
    "yte_label = (yte_label+1)/2\n",
    "# add a column to the data\n",
    "Xtr = np.hstack((np.ones((np.shape(Xtr)[0],1),dtype=int),Xtr))\n",
    "Xte = np.hstack((np.ones((np.shape(Xte)[0],1),dtype=int),Xte))\n",
    "# normalize  and mat data\n",
    "Xtr = scaler(Xtr)\n",
    "Xte = scaler(Xte)"
   ]
  },
  {
   "cell_type": "code",
   "execution_count": 76,
   "metadata": {
    "scrolled": true
   },
   "outputs": [
    {
     "name": "stdout",
     "output_type": "stream",
     "text": [
      "(300, 20001) (300,) (300, 20001) (300,)\n"
     ]
    }
   ],
   "source": [
    "print(Xtr.shape,ytr_label.shape,Xte.shape,yte_label.shape)"
   ]
  },
  {
   "cell_type": "code",
   "execution_count": 77,
   "metadata": {},
   "outputs": [],
   "source": [
    "m,n = np.shape(Xtr)\n",
    "eta = 1/m\n",
    "i=0\n",
    "tr_err_b= []\n",
    "k_=30\n",
    "w = np.zeros((n))\n",
    "x = []\n",
    "for i in range(iter):\n",
    "    w = grade(Xtr,ytr_label,w,eta,s)\n",
    "    M_ = M(k_,n,iter,u,i)-1\n",
    "#         print(M_)\n",
    "    value = FSA(n,w,M_)\n",
    "    w = update(n,w,value)\n",
    "    train_err = predict(Xtr,ytr_label,w)\n",
    "#         print(np.sum(w==0))\n",
    "    tr_err_b.append(train_err)\n",
    "    x.append(i)"
   ]
  },
  {
   "cell_type": "code",
   "execution_count": 78,
   "metadata": {},
   "outputs": [
    {
     "data": {
      "text/plain": [
       "Text(0, 0.5, 'train misclassifier error')"
      ]
     },
     "execution_count": 78,
     "metadata": {},
     "output_type": "execute_result"
    },
    {
     "data": {
      "image/png": "[encoded data removed]",
      "text/plain": [
       "<Figure size 432x288 with 1 Axes>"
      ]
     },
     "metadata": {
      "needs_background": "light"
     },
     "output_type": "display_data"
    }
   ],
   "source": [
    "# plt.plot(x,tr_err_b)\n",
    "plt.plot(np.arange(iter)+1,tr_err_b)\n",
    "plt.xlabel('iteration number')\n",
    "plt.ylabel('train misclassifier error')"
   ]
  },
  {
   "cell_type": "code",
   "execution_count": 79,
   "metadata": {},
   "outputs": [],
   "source": [
    "i=0\n",
    "tr_errb = []\n",
    "te_errb = []\n",
    "K = []\n",
    "for k in [10,30,100,300,500]:\n",
    "    w = np.zeros((n))\n",
    "    for i in range(iter):\n",
    "        w = grade(Xtr,ytr_label,w,eta,s)\n",
    "        M_ = M(k,n,iter,u,i)-1\n",
    "#         print(M_)\n",
    "        value = FSA(n,w,M_)\n",
    "        w = update(n,w,value)\n",
    "    train_err = predict(Xtr,ytr_label,w)\n",
    "    test_err = predict(Xte,yte_label,w)\n",
    "#         print(np.sum(w==0))\n",
    "    tr_errb.append(train_err)\n",
    "    te_errb.append(test_err)\n",
    "    K.append(k)"
   ]
  },
  {
   "cell_type": "code",
   "execution_count": 80,
   "metadata": {
    "scrolled": true
   },
   "outputs": [
    {
     "data": {
      "text/plain": [
       "<matplotlib.legend.Legend at 0x2bc8187bca0>"
      ]
     },
     "execution_count": 80,
     "metadata": {},
     "output_type": "execute_result"
    },
    {
     "data": {
      "image/png": "[encoded data removed]",
      "text/plain": [
       "<Figure size 432x288 with 1 Axes>"
      ]
     },
     "metadata": {
      "needs_background": "light"
     },
     "output_type": "display_data"
    }
   ],
   "source": [
    "plt.figure()\n",
    "plt.plot(K,tr_errb,'b*-',label = 'train err')\n",
    "plt.plot(K,te_errb,'r.-',label = 'test err')\n",
    "plt.xlabel('K features select')\n",
    "plt.ylabel('errs in training')\n",
    "plt.legend()"
   ]
  },
  {
   "cell_type": "code",
   "execution_count": 60,
   "metadata": {},
   "outputs": [],
   "source": [
    "# data import\n",
    "train_data = np.loadtxt(r\"D:\\2020fall\\5635 machine learning\\5635 hw\\hw4\\madelon\\madelon_train.data\")\n",
    "train_label = np.loadtxt(R\"D:\\2020fall\\5635 machine learning\\5635 hw\\hw4\\madelon\\madelon_train.labels\")\n",
    "test_data = np.loadtxt(r\"D:\\2020fall\\5635 machine learning\\5635 hw\\hw4\\madelon\\madelon_valid.data\")\n",
    "test_label = np.loadtxt(r\"D:\\2020fall\\5635 machine learning\\5635 hw\\hw4\\madelon\\madelon_valid.labels\")"
   ]
  },
  {
   "cell_type": "code",
   "execution_count": 61,
   "metadata": {},
   "outputs": [],
   "source": [
    "# add a column to the data\n",
    "train_data = np.hstack((np.ones((np.shape(train_data)[0],1),dtype=int),train_data))\n",
    "test_data = np.hstack((np.ones((np.shape(test_data)[0],1),dtype=int),test_data))\n",
    "train_label = (train_label+1)/2\n",
    "test_label = (test_label +1)/2\n",
    "# normalizedata\n",
    "train_data = scaler(train_data)\n",
    "test_data = scaler(test_data )"
   ]
  },
  {
   "cell_type": "code",
   "execution_count": 62,
   "metadata": {},
   "outputs": [
    {
     "name": "stdout",
     "output_type": "stream",
     "text": [
      "(2000, 501) (2000,) (600, 501) (600,)\n"
     ]
    }
   ],
   "source": [
    "print(train_data.shape,train_label.shape,test_data.shape,test_label.shape)"
   ]
  },
  {
   "cell_type": "code",
   "execution_count": 63,
   "metadata": {},
   "outputs": [],
   "source": [
    "m,n = np.shape(train_data)\n",
    "eta = 1/m\n",
    "i=0\n",
    "tr_err_c= []\n",
    "k_=30\n",
    "w = np.zeros((n))\n",
    "x = []\n",
    "for i in range(iter):\n",
    "    w = grade(train_data,train_label,w,eta,s)\n",
    "    M_ = M(k_,n,iter,u,i)-1\n",
    "#         print(M_)\n",
    "    value = FSA(n,w,M_)\n",
    "    w = update(n,w,value)\n",
    "    train_err = predict(train_data,train_label,w)\n",
    "#         print(np.sum(w==0))\n",
    "    tr_err_c.append(train_err)\n",
    "    x.append(i)"
   ]
  },
  {
   "cell_type": "code",
   "execution_count": 64,
   "metadata": {},
   "outputs": [
    {
     "data": {
      "text/plain": [
       "Text(0, 0.5, 'train misclassifier error')"
      ]
     },
     "execution_count": 64,
     "metadata": {},
     "output_type": "execute_result"
    },
    {
     "data": {
      "image/png": "[encoded data removed]",
      "text/plain": [
       "<Figure size 432x288 with 1 Axes>"
      ]
     },
     "metadata": {
      "needs_background": "light"
     },
     "output_type": "display_data"
    }
   ],
   "source": [
    "plt.plot(x,tr_err_c)\n",
    "plt.xlabel('iteration number')\n",
    "plt.ylabel('train misclassifier error')"
   ]
  },
  {
   "cell_type": "code",
   "execution_count": 71,
   "metadata": {},
   "outputs": [],
   "source": [
    "i=0\n",
    "tr_errc = []\n",
    "te_errc = []\n",
    "K = []\n",
    "for k in [10,30,100,300,500]:\n",
    "    w = np.zeros((n))\n",
    "    for i in range(iter):\n",
    "        w = grade(train_data,train_label,w,eta,s)\n",
    "        M_ = M(k,n,iter,u,i)-1\n",
    "#         print(M_)\n",
    "        value = FSA(n,w,M_)\n",
    "        w = update(n,w,value)\n",
    "    train_err = predict(train_data,train_label,w)\n",
    "    test_err = predict(test_data,test_label,w)\n",
    "#         print(np.sum(w==0))\n",
    "    tr_errc.append(train_err)\n",
    "    te_errc.append(test_err)\n",
    "    K.append(k)"
   ]
  },
  {
   "cell_type": "code",
   "execution_count": 72,
   "metadata": {},
   "outputs": [
    {
     "data": {
      "text/plain": [
       "<matplotlib.legend.Legend at 0x2bcc2694940>"
      ]
     },
     "execution_count": 72,
     "metadata": {},
     "output_type": "execute_result"
    },
    {
     "data": {
      "image/png": "[encoded data removed]",
      "text/plain": [
       "<Figure size 432x288 with 1 Axes>"
      ]
     },
     "metadata": {
      "needs_background": "light"
     },
     "output_type": "display_data"
    }
   ],
   "source": [
    "plt.figure()\n",
    "plt.plot(K,tr_errc,'b*-',label = 'train err')\n",
    "plt.plot(K,te_errc,'r.-',label = 'test err')\n",
    "plt.xlabel('K features select')\n",
    "plt.ylabel('errs in training')\n",
    "plt.legend()"
   ]
  }
 ],
 "metadata": {
  "kernelspec": {
   "display_name": "Python 3",
   "language": "python",
   "name": "python3"
  },
  "language_info": {
   "codemirror_mode": {
    "name": "ipython",
    "version": 3
   },
   "file_extension": ".py",
   "mimetype": "text/x-python",
   "name": "python",
   "nbconvert_exporter": "python",
   "pygments_lexer": "ipython3",
   "version": "3.8.3"
  }
 },
 "nbformat": 4,
 "nbformat_minor": 4
}
