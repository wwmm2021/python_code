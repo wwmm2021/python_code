{
 "cells": [
  {
   "cell_type": "code",
   "execution_count": null,
   "metadata": {},
   "outputs": [],
   "source": [
    "###    a  result       ###\n",
    "The analytic solution is: β = (X.T * X+0.0001 * Ip ).I * X.T * Y \n",
    "avg_train_r is : 0.5300669715193409\n",
    "avg_test_r is: 0.5081597024001316\n",
    "    \n",
    "##     b  result       ## \n",
    "the test average r^2 score under different depth:\n",
    "[1, 2, 3, 4, 5, 6, 7]\n",
    "['0.266635', '0.366659', '0.411241', '0.433401', '0.456710', '0.469826', '0.442630']\n",
    "the train average r^2 score under different depth:\n",
    "['0.284804', '0.375542', '0.426791', '0.497753', '0.548679', '0.595937', '0.650281']\n",
    "# picture can't show here.please see the line [106]\n",
    "\n",
    "##      c result       ## \n",
    "the test average r^2 score under different Randomtree number:\n",
    "[10, 30, 100]\n",
    "['0.509490', '0.516871', '0.518695']\n",
    "the train average r^2 score under different Randomtree number:\n",
    "['0.911127', '0.929245', '0.935385']"
   ]
  },
  {
   "cell_type": "code",
   "execution_count": 60,
   "metadata": {},
   "outputs": [],
   "source": [
    "import numpy as np\n",
    "import matplotlib.pyplot as plt\n",
    "%matplotlib inline\n",
    "import pandas as pd\n",
    "from sklearn import tree\n",
    "from sklearn.tree import DecisionTreeRegressor\n",
    "from sklearn.ensemble import RandomForestClassifier\n",
    "from sklearn import linear_model\n",
    "from sklearn.model_selection import train_test_split\n",
    "from sklearn.metrics import mean_squared_error,r2_score"
   ]
  },
  {
   "cell_type": "code",
   "execution_count": 61,
   "metadata": {},
   "outputs": [],
   "source": [
    "######  a  ######\n",
    "# import and data preprocessing\n",
    "data = pd.read_csv(\"D:/2020fall/5635 machine learning\\\n",
    "/5635 hw/hw2/abalone.csv\",header= None)\n",
    "X = data.drop(columns = 7)\n",
    "X = np.array(X)\n",
    "y = data[7]\n",
    "y = np.array(y)\n",
    "X=np.hstack((np.ones((np.shape(X)[0],1),dtype=int),X))\n",
    "# insert a all 1 column into X\n",
    "lam = 0.0001"
   ]
  },
  {
   "cell_type": "code",
   "execution_count": 62,
   "metadata": {},
   "outputs": [],
   "source": [
    "# define a ridgefunction to get beda coef_\n",
    "def ridgeRegres(xMat,yMat,lam):\n",
    "    xTx = xMat.T*xMat\n",
    "    denom = xTx + np.eye(np.shape(xMat)[1])*lam\n",
    "    if np.linalg.det(denom) == 0.0:\n",
    "        print(\"This matrix is singular, cannot do inverse\")\n",
    "        return\n",
    "    w = denom.I * (xMat.T*yMat)\n",
    "    return w"
   ]
  },
  {
   "cell_type": "code",
   "execution_count": 63,
   "metadata": {},
   "outputs": [],
   "source": [
    "# define a R^2 score test\n",
    "def R_square(X_train,X_test,y_train,y_test):\n",
    "    beta = ridgeRegres(X_train,y_train, lam)\n",
    "  # y_train_1 = X_train*beta\n",
    "    y_train_ = np.dot(X_train,beta)\n",
    "    y_test_ = np.dot(X_test,beta)\n",
    "    row_train = y_train.shape[0]\n",
    "    row_test = y_test.shape[0]\n",
    "    R_train = 1 - np.sum((y_train_ -y_train).T*(y_train_ -y_train))\\\n",
    "        / (row_train*y_train.var())    \n",
    "    R_test = 1 - np.sum((y_test_ - y_test).T*(y_test_ -y_test))\\\n",
    "        / (row_test*y_test.var())\n",
    "    return R_train,R_test"
   ]
  },
  {
   "cell_type": "code",
   "execution_count": 64,
   "metadata": {},
   "outputs": [
    {
     "name": "stdout",
     "output_type": "stream",
     "text": [
      "###      result       ###\n",
      "The analytic solution is: β = (X.T * X+0.0001 * Ip ).I * X.T * Y \n",
      "avg_train_r is : 0.5300669715193409\n",
      "avg_test_r is: 0.5081597024001316\n"
     ]
    }
   ],
   "source": [
    "# calculate and print result\n",
    "train_r = []\n",
    "test_r = []\n",
    "for i in range(10):\n",
    "    X_train,X_test,y_train,y_test = train_test_split(X,y,test_size =0.2)\n",
    "    X_train = np.mat(X_train); y_train=np.mat(y_train).T\n",
    "    X_test = np.mat(X_test); y_test = np.mat(y_test).T\n",
    "    R= R_square(X_train,X_test,y_train,y_test)\n",
    "    train_r.append(R[0])\n",
    "    test_r.append(R[1])\n",
    "print('###      result       ###')\n",
    "print('The analytic solution is: β = (X.T * X+0.0001 * Ip ).I * X.T * Y ')\n",
    "print('avg_train_r is :',sum(train_r)/10)\n",
    "print('avg_test_r is:',sum(test_r)/10)\n",
    "    "
   ]
  },
  {
   "cell_type": "code",
   "execution_count": 90,
   "metadata": {},
   "outputs": [],
   "source": [
    "########## problem b ###########\n",
    "##### decisiontreeRegression model ######\n",
    "from sklearn.tree import DecisionTreeRegressor"
   ]
  },
  {
   "cell_type": "code",
   "execution_count": 103,
   "metadata": {},
   "outputs": [],
   "source": [
    "# import and data preprocessing\n",
    "abalone = pd.read_csv(\"D:/2020fall/5635 machine learning\\\n",
    "/5635 hw/hw2/abalone.csv\",header= None)\n",
    "X = abalone.drop(columns = 7)\n",
    "data = np.array(X)\n",
    "y = abalone[7]\n",
    "target = np.array(y)"
   ]
  },
  {
   "cell_type": "code",
   "execution_count": 105,
   "metadata": {},
   "outputs": [],
   "source": [
    "avg_test_r2=[]\n",
    "avg_train_r2=[]\n",
    "x=[]\n",
    "for i in range(1,8,1):\n",
    "    count = 0\n",
    "    test_r2_ = 0\n",
    "    train_r2_ = 0\n",
    "    for j in range(1,11,1):\n",
    "        X_train,y_test,X_valid,y_valid = train_test_split(data,target,test_size =0.2)\n",
    "        lr = DecisionTreeRegressor(criterion='mse',max_depth=i)\n",
    "        lr.fit(X_train,X_valid)\n",
    "        y_valid_ = lr.predict(y_test)\n",
    "        X_valid_ = lr.predict(X_train)\n",
    "        test_r2_ += r2_score(y_valid,y_valid_)\n",
    "        train_r2_ += r2_score(X_valid,X_valid_)\n",
    "        count +=1\n",
    "    x.append(i)\n",
    "    avg_test_r2.append(format(test_r2_ / count,'.6f'))\n",
    "    avg_train_r2.append(format(train_r2_ / count,'.6f'))"
   ]
  },
  {
   "cell_type": "code",
   "execution_count": 106,
   "metadata": {
    "scrolled": true
   },
   "outputs": [
    {
     "name": "stdout",
     "output_type": "stream",
     "text": [
      "##       result       ## \n",
      "the test average r^2 score under different depth:\n",
      "[1, 2, 3, 4, 5, 6, 7]\n",
      "['0.266635', '0.366659', '0.411241', '0.433401', '0.456710', '0.469826', '0.442630']\n",
      "the train average r^2 score under different depth:\n",
      "['0.284804', '0.375542', '0.426791', '0.497753', '0.548679', '0.595937', '0.650281']\n"
     ]
    },
    {
     "data": {
      "text/plain": [
       "<matplotlib.legend.Legend at 0x2b60279c850>"
      ]
     },
     "execution_count": 106,
     "metadata": {},
     "output_type": "execute_result"
    },
    {
     "data": {
      "image/png": "[encoded data removed]",
      "text/plain": [
       "<Figure size 432x288 with 1 Axes>"
      ]
     },
     "metadata": {
      "needs_background": "light"
     },
     "output_type": "display_data"
    }
   ],
   "source": [
    "######  result    #######    \n",
    "print('##       result       ## ')\n",
    "print('the test average r^2 score under different depth:')\n",
    "print(x)\n",
    "print(avg_test_r2)\n",
    "print('the train average r^2 score under different depth:')\n",
    "print(avg_train_r2)\n",
    "avg_train_r2 = list(map(float,avg_train_r2))\n",
    "avg_test_r2 = list(map(float,avg_test_r2))\n",
    "plt.figure()\n",
    "plt.plot(x,avg_test_r2,'r*-',label = 'test')\n",
    "plt.plot(x,avg_train_r2,'b.-',label = 'train')\n",
    "plt.xlabel('tree depth')\n",
    "plt.ylabel('ave_r^2 score')\n",
    "plt.legend()"
   ]
  },
  {
   "cell_type": "code",
   "execution_count": 107,
   "metadata": {},
   "outputs": [],
   "source": [
    "########## problem c ###########\n",
    "##### randomforestRegression model ######\n",
    "from sklearn.ensemble import RandomForestRegressor"
   ]
  },
  {
   "cell_type": "code",
   "execution_count": 108,
   "metadata": {},
   "outputs": [],
   "source": [
    "avg_test_r2=[]\n",
    "avg_train_r2=[]\n",
    "x=[]\n",
    "for i in [10,30,100]:\n",
    "    count = 0\n",
    "    test_r2_ = 0\n",
    "    train_r2_ = 0\n",
    "    for j in range(1,11,1):\n",
    "        X_train,y_test,X_valid,y_valid = train_test_split(data,target,test_size =0.2)\n",
    "        lr = RandomForestRegressor(n_estimators=i,random_state=1)\n",
    "        lr.fit(X_train,X_valid)\n",
    "        y_valid_ = lr.predict(y_test)\n",
    "        X_valid_ = lr.predict(X_train)\n",
    "        test_r2_ += r2_score(y_valid,y_valid_)\n",
    "        train_r2_ += r2_score(X_valid,X_valid_)\n",
    "        count +=1\n",
    "    x.append(i)\n",
    "    avg_test_r2.append(format(test_r2_ / count,'.6f'))\n",
    "    avg_train_r2.append(format(train_r2_ / count,'.6f'))"
   ]
  },
  {
   "cell_type": "code",
   "execution_count": 109,
   "metadata": {},
   "outputs": [
    {
     "name": "stdout",
     "output_type": "stream",
     "text": [
      "##       result       ## \n",
      "the test average r^2 score under different Randomtree number:\n",
      "[10, 30, 100]\n",
      "['0.509490', '0.516871', '0.518695']\n",
      "the train average r^2 score under different Randomtree number:\n",
      "['0.911127', '0.929245', '0.935385']\n"
     ]
    }
   ],
   "source": [
    "######  result    #######    \n",
    "print('##       result       ## ')\n",
    "print('the test average r^2 score under different Randomtree number:')\n",
    "print(x)\n",
    "print(avg_test_r2)\n",
    "print('the train average r^2 score under different Randomtree number:')\n",
    "print(avg_train_r2)\n",
    "avg_train_r2 = list(map(float,avg_train_r2))\n",
    "avg_test_r2 = list(map(float,avg_test_r2))"
   ]
  }
 ],
 "metadata": {
  "kernelspec": {
   "display_name": "Python 3",
   "language": "python",
   "name": "python3"
  },
  "language_info": {
   "codemirror_mode": {
    "name": "ipython",
    "version": 3
   },
   "file_extension": ".py",
   "mimetype": "text/x-python",
   "name": "python",
   "nbconvert_exporter": "python",
   "pygments_lexer": "ipython3",
   "version": "3.8.3"
  }
 },
 "nbformat": 4,
 "nbformat_minor": 4
}
