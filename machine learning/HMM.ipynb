{
 "cells": [
  {
   "cell_type": "markdown",
   "metadata": {},
   "source": [
    "# problem 1.a) \n",
    "Index:-1-75-|-76-123-|-124-207-|-208-275\\\n",
    "State:-----1--|-----2----|------1----|------2 \\\n",
    "y = [75*[1]+48*[2]+84*[1]+68*[2]] \\\n",
    "[1 1 1 1 1 1 1 1 1 1 1 1 1 1 1 1 1 1 1 1 1 1 1 1 1 1 1 1 1 1 1 1 1 1 1 1 1\n",
    " 1 1 1 1 1 1 1 1 1 1 1 1 1 1 1 1 1 1 1 1 1 1 1 1 1 1 1 1 1 1 1 1 1 1 1 1 1\n",
    " 1 2 2 2 2 2 2 2 2 2 2 2 2 2 2 2 2 2 2 2 2 2 2 2 2 2 2 2 2 2 2 2 2 2 2 2 2\n",
    " 2 2 2 2 2 2 2 2 2 2 2 2 1 1 1 1 1 1 1 1 1 1 1 1 1 1 1 1 1 1 1 1 1 1 1 1 1\n",
    " 1 1 1 1 1 1 1 1 1 1 1 1 1 1 1 1 1 1 1 1 1 1 1 1 1 1 1 1 1 1 1 1 1 1 1 1 1\n",
    " 1 1 1 1 1 1 1 1 1 1 1 1 1 1 1 1 1 1 1 1 1 1 2 2 2 2 2 2 2 2 2 2 2 2 2 2 2\n",
    " 2 2 2 2 2 2 2 2 2 2 2 2 2 2 2 2 2 2 2 2 2 2 2 2 2 2 2 2 2 2 2 2 2 2 2 2 2\n",
    " 2 2 2 2 2 2 2 2 2 2 2 2 2 2 2 2]"
   ]
  },
  {
   "cell_type": "markdown",
   "metadata": {},
   "source": [
    "##### problem(1.b)\n",
    "alpha(125,1)/alpha(125,2): 0.3989 \\\n",
    "beta(125,1)/beta(125,2): 3.8564\\"
   ]
  },
  {
   "cell_type": "markdown",
   "metadata": {},
   "source": [
    "# problem 2\n",
    "initial 1:\\\n",
    "pi = (0.5,0.5) // a=[[.95,.05],[.05,.95]] // b = [[1/6,1/6,1/6,1/6,1/6,1/6],[.1,.1,.1,.1,.1,.5]]\\\n",
    "result 1:\\\n",
    "pi = (1,0) // a = [[0.8639,0.1361][0.1433,0.8567]] // b = [[0.2301,0.2111,0.1911,0.2293,0.0486,0.0898][0.1633,0.1929,0.1859,0.1614,0.1998,0.0967 ]]\\\n",
    "intial 2:\\\n",
    "pi = (0.65,0.35) // a = [[.85,.15],[.15,.85]] // b = [[1/6,1/6,1/6,1/6,1/6,1/6],[.1,.2,.1,.2,.1,.3]]\\\n",
    "result 2:\\\n",
    "pi = (0,1) // a = [[0.8563,0.1437][0.1364,0.8636]] // b =[[0.1632,0.1929,0.1860,0.1614,0.1999,0.0966[0.2301,0.2111,0.1911,0.2294,0.0485,0.0898]]\n",
    "\n"
   ]
  },
  {
   "cell_type": "code",
   "execution_count": 25,
   "metadata": {},
   "outputs": [],
   "source": [
    "import pandas as pd\n",
    "import numpy as np"
   ]
  },
  {
   "cell_type": "code",
   "execution_count": 26,
   "metadata": {},
   "outputs": [],
   "source": [
    "###  problem 1.a  ###"
   ]
  },
  {
   "cell_type": "code",
   "execution_count": 27,
   "metadata": {},
   "outputs": [],
   "source": [
    "def viterbi(X,a,b,C,Ptr):\n",
    "    for t in range(len(X)):\n",
    "        for k in states:\n",
    "            chunk = np.log(a)+np.array([C[t-1]]*2).T #log(a(i,k))+C(t-1,i)\n",
    "            C[t,k] =np.log(b[k,X[t]])+chunk[:,k].max()#C(t,k) = log(b(Xt,k)+max(chunk[:,k]))\n",
    "            Ptr[t,k] = chunk[:,k].argmax()#Ptr(t,k)=argmax(log(a(i,k))+C(t-1,i))\n",
    "    return Ptr"
   ]
  },
  {
   "cell_type": "code",
   "execution_count": 28,
   "metadata": {},
   "outputs": [],
   "source": [
    "X = pd.read_csv(\"D:/2020fall/5635 machine learning/5635 hw/hw10/hmm_pb1.csv\",header=None).values.ravel()-1"
   ]
  },
  {
   "cell_type": "code",
   "execution_count": 29,
   "metadata": {},
   "outputs": [],
   "source": [
    "# initialization\n",
    "states = np.array([0,1]) #state space{0:Fair,1:Load}\n",
    "a = np.array([[.95,.05],[.05,.95]])  #transition matrix a \n",
    "b = np.array([[1/6,1/6,1/6,1/6,1/6,1/6],[.1,.1,.1,.1,.1,.5]])  #emission matrix b\n",
    "pi =np.array([.5,.5])  #prob of initial satae pi"
   ]
  },
  {
   "cell_type": "code",
   "execution_count": 30,
   "metadata": {},
   "outputs": [],
   "source": [
    "#initialize c and path\n",
    "C = np.zeros((len(X),len(states))) #C matrix (log(V))\n",
    "Ptr = np.zeros((len(X),len(states)));Ptr[:]=-1 #Ptr for each ini.\n",
    "C[0] = np.log(pi*b[:,X[0]])\n",
    "Ptr[0]=states"
   ]
  },
  {
   "cell_type": "code",
   "execution_count": 31,
   "metadata": {},
   "outputs": [],
   "source": [
    "#Viterbi algorithm to update Ptr\n",
    "Ptr_=viterbi(X,a,b,C,Ptr)"
   ]
  },
  {
   "cell_type": "code",
   "execution_count": 32,
   "metadata": {},
   "outputs": [],
   "source": [
    "path =np.zeros(len(X)).astype(int);path[:]=-1  #ini.path\n",
    "#yt* =argmax(C(t,k))\n",
    "path[-1]=C[-1].argmax()"
   ]
  },
  {
   "cell_type": "code",
   "execution_count": 33,
   "metadata": {
    "scrolled": false
   },
   "outputs": [
    {
     "name": "stdout",
     "output_type": "stream",
     "text": [
      "problem 1.a:\n",
      "[1 1 1 1 1 1 1 1 1 1 1 1 1 1 1 1 1 1 1 1 1 1 1 1 1 1 1 1 1 1 1 1 1 1 1 1 1\n",
      " 1 1 1 1 1 1 1 1 1 1 1 1 1 1 1 1 1 1 1 1 1 1 1 1 1 1 1 1 1 1 1 1 1 1 1 1 1\n",
      " 1 2 2 2 2 2 2 2 2 2 2 2 2 2 2 2 2 2 2 2 2 2 2 2 2 2 2 2 2 2 2 2 2 2 2 2 2\n",
      " 2 2 2 2 2 2 2 2 2 2 2 2 1 1 1 1 1 1 1 1 1 1 1 1 1 1 1 1 1 1 1 1 1 1 1 1 1\n",
      " 1 1 1 1 1 1 1 1 1 1 1 1 1 1 1 1 1 1 1 1 1 1 1 1 1 1 1 1 1 1 1 1 1 1 1 1 1\n",
      " 1 1 1 1 1 1 1 1 1 1 1 1 1 1 1 1 1 1 1 1 1 1 2 2 2 2 2 2 2 2 2 2 2 2 2 2 2\n",
      " 2 2 2 2 2 2 2 2 2 2 2 2 2 2 2 2 2 2 2 2 2 2 2 2 2 2 2 2 2 2 2 2 2 2 2 2 2\n",
      " 2 2 2 2 2 2 2 2 2 2 2 2 2 2 2 2]\n"
     ]
    }
   ],
   "source": [
    "#y(t-1)*=Ptr(t,yt*)\n",
    "for t in range(2,len(X)+1):\n",
    "    path[-t] = Ptr_[-t+1,path[-t+1]]\n",
    "pathV = path+1\n",
    "print(\"problem 1.a:\")\n",
    "print(pathV)"
   ]
  },
  {
   "cell_type": "code",
   "execution_count": 34,
   "metadata": {},
   "outputs": [],
   "source": [
    "####  problem 1.b  ####"
   ]
  },
  {
   "cell_type": "code",
   "execution_count": 35,
   "metadata": {},
   "outputs": [],
   "source": [
    "uF = np.ones(len(X)) #anti-underflow constant\n",
    "# ini.alpha\n",
    "alpha =np.zeros((len(X),len(states))) #alpha matrix\n",
    "alpha[0] = b[:,X[0]]*pi  # alpha(1,k) = b(x1,k)pi(k)"
   ]
  },
  {
   "cell_type": "code",
   "execution_count": 36,
   "metadata": {},
   "outputs": [],
   "source": [
    "#forward algorithm\n",
    "for t in range(1,len(X)):\n",
    "    for k in states:\n",
    "        alpha[t,k] = b[k,X[t]]*(alpha[t-1]@a[k])\n",
    "    uF[t] = alpha[t].sum()\n",
    "    alpha[t] = alpha[t]/uF[t]"
   ]
  },
  {
   "cell_type": "code",
   "execution_count": 37,
   "metadata": {},
   "outputs": [],
   "source": [
    "#ini.beta\n",
    "beta = np.zeros((len(X),len(states))) #beta matrix\n",
    "beta[-1] = np.ones(len(states))  #alpha(1,k) = b(x1,k)pi(k)"
   ]
  },
  {
   "cell_type": "code",
   "execution_count": 38,
   "metadata": {},
   "outputs": [],
   "source": [
    "#backward algorithm\n",
    "for t in range(2,len(X)+1):\n",
    "    for k in states:\n",
    "        beta[-t,k] = sum(a[k]*beta[-t+1]*b[:,X[-t+1]])\n",
    "    beta[-t] = beta[-t]/uF[-t]"
   ]
  },
  {
   "cell_type": "code",
   "execution_count": 39,
   "metadata": {},
   "outputs": [],
   "source": [
    "#alpha*beta/sum(alpha)\n",
    "prob = alpha*beta/np.array([alpha.sum(1)]*len(states)).T\n",
    "#transfer {0:Fair,1:Load} to {1:Fair,2:Load}\n",
    "pathFB = prob.argmax(1)+1"
   ]
  },
  {
   "cell_type": "code",
   "execution_count": 24,
   "metadata": {},
   "outputs": [
    {
     "name": "stdout",
     "output_type": "stream",
     "text": [
      "problem 1.b:\n",
      "alpha(125,1)/alpha(125,2): 0.3989127511917304\n",
      "beta(125,1)/beta(125,2): 3.8564482012611925\n"
     ]
    }
   ],
   "source": [
    "print(\"problem 1.b:\")\n",
    "print(\"alpha(125,1)/alpha(125,2):\",alpha[124,0]/alpha[124,1])\n",
    "print(\"beta(125,1)/beta(125,2):\",beta[124,0]/beta[124,1])"
   ]
  },
  {
   "cell_type": "code",
   "execution_count": 71,
   "metadata": {},
   "outputs": [],
   "source": [
    "#problem 2"
   ]
  },
  {
   "cell_type": "code",
   "execution_count": 5,
   "metadata": {},
   "outputs": [],
   "source": [
    "#load data\n",
    "x = pd.read_csv(\"D:/2020fall/5635 machine learning/5635 hw/hw10/hmm_pb2.csv\",header=None).values.ravel()-1"
   ]
  },
  {
   "cell_type": "code",
   "execution_count": 65,
   "metadata": {},
   "outputs": [],
   "source": [
    "# guess the parameter to be the same\n",
    "states = np.array([0,1]) #state space{0:Fair,1:Load}\n",
    "a = np.array([[.95,.05],[.05,.95]])  #transition matrix a \n",
    "b = np.array([[1/6,1/6,1/6,1/6,1/6,1/6],[.1,.1,.1,.1,.1,.5]])  #emission matrix b\n",
    "pi =np.array([.5,.5])  #prob of initial satae pi\n",
    "alist=[a]; blist=[b]; pi_list=[pi]"
   ]
  },
  {
   "cell_type": "code",
   "execution_count": 7,
   "metadata": {},
   "outputs": [],
   "source": [
    "# guess the parameter\n",
    "states = np.array([0,1]) #state space{0:Fair,1:Load}\n",
    "a = np.array([[.85,.15],[.15,.85]])  #transition matrix a \n",
    "b = np.array([[1/6,1/6,1/6,1/6,1/6,1/6],[.1,.2,.1,.2,.1,.3]])  #emission matrix b\n",
    "pi =np.array([.65,.35])  #prob of initial satae pi\n",
    "alist=[a]; blist=[b]; pi_list=[pi]"
   ]
  },
  {
   "cell_type": "code",
   "execution_count": 69,
   "metadata": {},
   "outputs": [],
   "source": [
    "for i in range(1000):\n",
    "    # E step forward algorithm \n",
    "    uF = np.ones(len(x)) #anti-underflow constant\n",
    "    alpha =np.zeros((len(x),len(states)))\n",
    "    alpha[0] = b[:,x[0]]*pi\n",
    "    for t in range(1,len(x)):\n",
    "        for k in states:\n",
    "            alpha[t,k] = b[k,x[t]]*(alpha[t-1]@a[k])\n",
    "        uF[t] = alpha[t].sum()\n",
    "        alpha[t] = alpha[t]/uF[t]\n",
    "    #backward \n",
    "    beta = np.zeros((len(x),len(states)))\n",
    "    beta[-1] = np.ones(len(states))    \n",
    "    for t in range(2,len(x)+1):\n",
    "        for k in states:\n",
    "            beta[-t,k] = sum(a[k]*beta[-t+1]*b[:,x[-t+1]])\n",
    "        beta[-t] = beta[-t]/uF[-t]\n",
    "    #estimate xi & gamma\n",
    "    xi=np.zeros((len(x)-1,len(states),len(states)))\n",
    "    gamma=np.zeros((len(x)-1,len(states)))\n",
    "    for t in range(len(x)-1):\n",
    "        xi_=np.array([alpha[t]]*2).T*a*np.array([beta[t+1]]*2)*np.array([b[:,x[t+1]]]*2)\n",
    "        xi[t] = xi_/xi_.sum()\n",
    "        gamma[t] =xi[t].sum(1)\n",
    "    #M step\n",
    "    pi = gamma[0] #updata pi\n",
    "    a=xi.sum(0)/(np.array([gamma.sum(0)]*2).T) #updata transition mayrix\n",
    "    xind=np.zeros((len(x),len(b[0])));xind[np.arange(len(x)),x]=1 #one-hot x\n",
    "    b=(gamma.T@xind[:-1])/(np.array([gamma.sum(0)]*6).T)\n",
    "    alist.append(a);blist.append(b);pi_list.append(pi)   "
   ]
  },
  {
   "cell_type": "code",
   "execution_count": 67,
   "metadata": {},
   "outputs": [
    {
     "name": "stdout",
     "output_type": "stream",
     "text": [
      "the result1 is a = [[0.86393701 0.13606299]\n",
      " [0.14333496 0.85666504]]\n",
      "the result1 is b = [[0.2300855  0.2110901  0.19111559 0.22932844 0.04861334 0.08976703]\n",
      " [0.16327149 0.19292792 0.1859157  0.16142695 0.19979782 0.0966601 ]]\n",
      "the result1 is pi = [1.00000000e+000 3.01505313e-222]\n"
     ]
    }
   ],
   "source": [
    "print(\"the result1 is a =\",alist[-1])\n",
    "print(\"the result1 is b =\",blist[-1])\n",
    "print(\"the result1 is pi =\",pi_list[-1])"
   ]
  },
  {
   "cell_type": "code",
   "execution_count": 70,
   "metadata": {},
   "outputs": [
    {
     "name": "stdout",
     "output_type": "stream",
     "text": [
      "the result2 is a = [[0.85632391 0.14367609]\n",
      " [0.13641087 0.86358913]]\n",
      "the result2 is b = [[0.16324313 0.19291604 0.18591205 0.16139248 0.19987207 0.09666422]\n",
      " [0.23011387 0.21110197 0.19111924 0.22936291 0.04853908 0.08976292]]\n",
      "the result2 is pi = [1.29775174e-213 1.00000000e+000]\n"
     ]
    }
   ],
   "source": [
    "print(\"the result2 is a =\",alist[-1])\n",
    "print(\"the result2 is b =\",blist[-1])\n",
    "print(\"the result2 is pi =\",pi_list[-1])"
   ]
  }
 ],
 "metadata": {
  "kernelspec": {
   "display_name": "Python 3",
   "language": "python",
   "name": "python3"
  },
  "language_info": {
   "codemirror_mode": {
    "name": "ipython",
    "version": 3
   },
   "file_extension": ".py",
   "mimetype": "text/x-python",
   "name": "python",
   "nbconvert_exporter": "python",
   "pygments_lexer": "ipython3",
   "version": "3.8.3"
  }
 },
 "nbformat": 4,
 "nbformat_minor": 4
}
