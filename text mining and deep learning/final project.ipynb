{
 "cells": [
  {
   "cell_type": "markdown",
   "metadata": {},
   "source": [
    "### Task 1: Project Overview and Import Modules"
   ]
  },
  {
   "cell_type": "code",
   "execution_count": 1,
   "metadata": {},
   "outputs": [],
   "source": [
    "%matplotlib inline\n",
    "import matplotlib.pyplot as plt\n",
    "import pandas as pd\n",
    "import numpy as np\n",
    "plt.style.use(\"ggplot\")\n",
    "np.random.seed(0)"
   ]
  },
  {
   "cell_type": "code",
   "execution_count": 2,
   "metadata": {},
   "outputs": [
    {
     "name": "stdout",
     "output_type": "stream",
     "text": [
      "tensorflow version: 2.4.1\n",
      "GPU detected: []\n",
      "CPU detected: [PhysicalDevice(name='/physical_device:CPU:0', device_type='CPU')]\n"
     ]
    }
   ],
   "source": [
    "import tensorflow as tf\n",
    "print('tensorflow version:',tf.__version__)\n",
    "print('GPU detected:',tf.config.list_physical_devices('GPU'))\n",
    "print('CPU detected:',tf.config.list_physical_devices('CPU'))"
   ]
  },
  {
   "cell_type": "markdown",
   "metadata": {},
   "source": [
    "### Task2: Load and Explore the NER Dataset"
   ]
  },
  {
   "cell_type": "code",
   "execution_count": 3,
   "metadata": {},
   "outputs": [],
   "source": [
    "#load train data\n",
    "stock_files={}\n",
    "j = 0\n",
    "j_file={}\n",
    "#for i in range (2142,32278300,1):\n",
    "for i in range (2142,12278300,1):\n",
    "    try:\n",
    "        files = open('D:/2021spring/text mining and deep learning/homework/train/train/'+str(i)+'.bio.txt')\n",
    "        stock_files[j] = files.readlines()\n",
    "        j_file[j]=i\n",
    "        files.close()\n",
    "        j +=1\n",
    "    except:\n",
    "        continue"
   ]
  },
  {
   "cell_type": "code",
   "execution_count": 4,
   "metadata": {},
   "outputs": [],
   "source": [
    "# load text file\n",
    "test_files={}\n",
    "j = 0\n",
    "#for i in range (206933,32277300,1):\n",
    "for i in range (206933,12277300,1):\n",
    "    try:\n",
    "        files = open('D:/2021spring/text mining and deep learning/homework/test/test/'+str(i)+'.bio.txt')\n",
    "        test_files[j] = files.readlines()\n",
    "        j +=1\n",
    "        files.close()\n",
    "    except:\n",
    "        continue"
   ]
  },
  {
   "cell_type": "markdown",
   "metadata": {},
   "source": [
    "### Task 3: Retrieve Sentences and Corresponsing Tags"
   ]
  },
  {
   "cell_type": "code",
   "execution_count": 5,
   "metadata": {},
   "outputs": [],
   "source": [
    "words = set()\n",
    "tags = set()\n",
    "data = []\n",
    "file_data =[]\n",
    "for i in range(len(stock_files)):\n",
    "    file = stock_files[i]\n",
    "    sentence = []\n",
    "    number_file = j_file[i]\n",
    "    for line in file:\n",
    "        #line = line.strip() #there are some space as a word\n",
    "        line=line.split('\\n') # tags have a '\\n' \n",
    "        line = line[0]\n",
    "        line=line.split('\\t')\n",
    "        if len(line)>1:\n",
    "            words.add(line[0])\n",
    "            tag = line[4]            \n",
    "            tags.add(tag)\n",
    "            s= (line[0],tag)\n",
    "            sentence.append(s)\n",
    "        else:\n",
    "            data.append(sentence)\n",
    "            s_n = (sentence,number_file)\n",
    "            file_data.append(s_n)\n",
    "            sentence = []"
   ]
  },
  {
   "cell_type": "code",
   "execution_count": 6,
   "metadata": {},
   "outputs": [],
   "source": [
    "test_data = []\n",
    "for i in range(len((test_files.keys()))):\n",
    "    file = test_files[i]\n",
    "    sentence = []\n",
    "    for line in file:\n",
    "        #line = line.strip() #there are some space as a word\n",
    "        line=line.split('\\n') # tags have a '\\n' \n",
    "        line = line[0]\n",
    "        line=line.split('\\t')\n",
    "        if len(line)>1:\n",
    "            words.add(line[0])\n",
    "            s = line[0]\n",
    "            sentence.append(s)\n",
    "        else:\n",
    "            test_data.append(sentence)\n",
    "            sentence = []"
   ]
  },
  {
   "cell_type": "code",
   "execution_count": 7,
   "metadata": {},
   "outputs": [],
   "source": [
    "words=list(words)\n",
    "num_words=len(words)\n",
    "tags=list(tags)\n",
    "num_tags = len(tags)"
   ]
  },
  {
   "cell_type": "markdown",
   "metadata": {},
   "source": [
    "### Task4: Define Mappints between Sentences and Tags"
   ]
  },
  {
   "cell_type": "code",
   "execution_count": 8,
   "metadata": {},
   "outputs": [],
   "source": [
    "word2idx = {w: i for i , w in enumerate(words)}\n",
    "tag2idx = {t : i for i , t in enumerate(tags)}"
   ]
  },
  {
   "cell_type": "markdown",
   "metadata": {},
   "source": [
    "### Task 5: Padding Input Sentences and Creating Train/Test Splits"
   ]
  },
  {
   "cell_type": "code",
   "execution_count": 9,
   "metadata": {
    "scrolled": true
   },
   "outputs": [
    {
     "data": {
      "image/png": "[encoded data removed]",
      "text/plain": [
       "<Figure size 432x288 with 1 Axes>"
      ]
     },
     "metadata": {},
     "output_type": "display_data"
    }
   ],
   "source": [
    "plt.hist([len(s) for s in data],bins = 50)\n",
    "plt.show()"
   ]
  },
  {
   "cell_type": "code",
   "execution_count": 10,
   "metadata": {},
   "outputs": [],
   "source": [
    "from tensorflow.keras.preprocessing.sequence import pad_sequences\n",
    "from tensorflow.keras.utils import to_categorical"
   ]
  },
  {
   "cell_type": "code",
   "execution_count": 11,
   "metadata": {},
   "outputs": [],
   "source": [
    "max_len = 80"
   ]
  },
  {
   "cell_type": "code",
   "execution_count": 12,
   "metadata": {},
   "outputs": [],
   "source": [
    "# word index\n",
    "X = [[word2idx[w[0]] for w in s ] for s in data]\n",
    "X = pad_sequences(maxlen=max_len,sequences = X,padding='post',value= num_words-1)\n",
    "\n",
    "y = [[tag2idx[w[1]] for w in s ] for s in data]\n",
    "y = pad_sequences(maxlen=max_len,sequences = y,padding='post',value= tag2idx['O'])\n",
    "y = [to_categorical(i, num_classes=num_tags) for i in y]\n",
    "\n",
    "test = [[word2idx[w] for w in s ] for s in test_data]\n",
    "test = pad_sequences(maxlen=max_len,sequences = test,padding='post',value= num_words-1)"
   ]
  },
  {
   "cell_type": "code",
   "execution_count": 13,
   "metadata": {},
   "outputs": [],
   "source": [
    "from sklearn.model_selection import train_test_split\n",
    "x_train,x_test,y_train,y_test = train_test_split(X,y,test_size=0.2,random_state = 1)"
   ]
  },
  {
   "cell_type": "markdown",
   "metadata": {},
   "source": [
    "### Task 6: Build and Compile a Bidirectional LSTM Model"
   ]
  },
  {
   "cell_type": "code",
   "execution_count": 14,
   "metadata": {},
   "outputs": [],
   "source": [
    "from tensorflow.keras import Model, Input\n",
    "from tensorflow.keras.layers import LSTM,Embedding,Dense\n",
    "from tensorflow.keras.layers import TimeDistributed,SpatialDropout1D,Bidirectional"
   ]
  },
  {
   "cell_type": "code",
   "execution_count": 15,
   "metadata": {
    "scrolled": true
   },
   "outputs": [
    {
     "name": "stdout",
     "output_type": "stream",
     "text": [
      "Model: \"model\"\n",
      "_________________________________________________________________\n",
      "Layer (type)                 Output Shape              Param #   \n",
      "=================================================================\n",
      "input_1 (InputLayer)         [(None, 80)]              0         \n",
      "_________________________________________________________________\n",
      "embedding (Embedding)        (None, 80, 80)            4043600   \n",
      "_________________________________________________________________\n",
      "spatial_dropout1d (SpatialDr (None, 80, 80)            0         \n",
      "_________________________________________________________________\n",
      "bidirectional (Bidirectional (None, 80, 200)           144800    \n",
      "_________________________________________________________________\n",
      "time_distributed (TimeDistri (None, 80, 15)            3015      \n",
      "=================================================================\n",
      "Total params: 4,191,415\n",
      "Trainable params: 4,191,415\n",
      "Non-trainable params: 0\n",
      "_________________________________________________________________\n"
     ]
    }
   ],
   "source": [
    "input_word = Input(shape = (max_len,))\n",
    "model = Embedding(input_dim = num_words,output_dim = max_len,input_length = max_len)(input_word)\n",
    "model = SpatialDropout1D(0.1)(model)\n",
    "model = Bidirectional(LSTM(units = 100, return_sequences = True, recurrent_dropout = 0.1))(model)\n",
    "out = TimeDistributed(Dense(num_tags, activation = 'softmax'))(model)\n",
    "model = Model(input_word,out)\n",
    "model.summary()"
   ]
  },
  {
   "cell_type": "code",
   "execution_count": 16,
   "metadata": {},
   "outputs": [],
   "source": [
    "model.compile(optimizer='adam',\n",
    "             loss = 'categorical_crossentropy',\n",
    "              metrics = ['accuracy']\n",
    "             )"
   ]
  },
  {
   "cell_type": "markdown",
   "metadata": {},
   "source": [
    "### Task7: Train the Model"
   ]
  },
  {
   "cell_type": "code",
   "execution_count": 17,
   "metadata": {},
   "outputs": [],
   "source": [
    "from tensorflow.keras.callbacks import ModelCheckpoint, EarlyStopping\n",
    "from livelossplot.tf_keras import PlotLossesCallback"
   ]
  },
  {
   "cell_type": "code",
   "execution_count": 18,
   "metadata": {
    "scrolled": true
   },
   "outputs": [
    {
     "data": {
      "image/png": "[encoded data removed]",
      "text/plain": [
       "<Figure size 864x576 with 2 Axes>"
      ]
     },
     "metadata": {},
     "output_type": "display_data"
    },
    {
     "name": "stdout",
     "output_type": "stream",
     "text": [
      "accuracy\n",
      "\ttraining         \t (min:    0.979, max:    0.987, cur:    0.987)\n",
      "\tvalidation       \t (min:    0.981, max:    0.984, cur:    0.984)\n",
      "Loss\n",
      "\ttraining         \t (min:    0.035, max:    0.100, cur:    0.035)\n",
      "\tvalidation       \t (min:    0.048, max:    0.062, cur:    0.048)\n"
     ]
    }
   ],
   "source": [
    "early_stopping = EarlyStopping(monitor = 'val_accuracy',patience = 1,verbose = 0,mode='max',restore_best_weights= False)\n",
    "callbacks = [PlotLossesCallback(),early_stopping]\n",
    "\n",
    "history = model.fit(\n",
    "    x_train, np.array(y_train),\n",
    "    validation_split=0.2,\n",
    "    batch_size = 16,\n",
    "    epochs = 3,\n",
    "    verbose=1,\n",
    "    callbacks = callbacks\n",
    ")"
   ]
  },
  {
   "cell_type": "markdown",
   "metadata": {},
   "source": [
    "### Task 8: Evaluate Named Entity Recognition Model"
   ]
  },
  {
   "cell_type": "code",
   "execution_count": 19,
   "metadata": {},
   "outputs": [
    {
     "name": "stdout",
     "output_type": "stream",
     "text": [
      "Word                     True           \tPred\n",
      "\n",
      "--------------------------------------------------\n",
      "It                       O              \tO\n",
      "\n",
      "was                      O              \tO\n",
      "\n",
      "not                      O              \tO\n",
      "\n",
      "possible                 O              \tO\n",
      "\n",
      "to                       O              \tO\n",
      "\n",
      "meet                     O              \tO\n",
      "\n",
      "the                      O              \tO\n",
      "\n",
      "recommended              O              \tO\n",
      "\n",
      "tolerance                O              \tO\n",
      "\n",
      "limits                   O              \tO\n",
      "\n",
      "of                       O              \tO\n",
      "\n",
      "the                      O              \tO\n",
      "\n",
      "redundancy               O              \tO\n",
      "\n",
      "checks                   O              \tO\n",
      "\n",
      "without                  O              \tO\n",
      "\n",
      "taking                   O              \tO\n",
      "\n",
      "into                     O              \tO\n",
      "\n",
      "account                  O              \tO\n",
      "\n",
      "the                      O              \tO\n",
      "\n",
      "angular                  O              \tO\n",
      "\n",
      "response                 O              \tO\n",
      "\n",
      "of                       O              \tO\n",
      "\n",
      "the                      O              \tO\n",
      "\n",
      "ionization               B-Disease      \tB-Disease\n",
      "\n",
      "chambers                 O              \tO\n",
      "\n",
      ".                        O              \tO\n",
      "\n",
      "SRV-1                    O              \tO\n",
      "\n",
      "SRV-1                    O              \tO\n",
      "\n",
      "SRV-1                    O              \tO\n",
      "\n",
      "SRV-1                    O              \tO\n",
      "\n",
      "SRV-1                    O              \tO\n",
      "\n",
      "SRV-1                    O              \tO\n",
      "\n",
      "SRV-1                    O              \tO\n",
      "\n",
      "SRV-1                    O              \tO\n",
      "\n",
      "SRV-1                    O              \tO\n",
      "\n",
      "SRV-1                    O              \tO\n",
      "\n",
      "SRV-1                    O              \tO\n",
      "\n",
      "SRV-1                    O              \tO\n",
      "\n",
      "SRV-1                    O              \tO\n",
      "\n",
      "SRV-1                    O              \tO\n",
      "\n",
      "SRV-1                    O              \tO\n",
      "\n",
      "SRV-1                    O              \tO\n",
      "\n",
      "SRV-1                    O              \tO\n",
      "\n",
      "SRV-1                    O              \tO\n",
      "\n",
      "SRV-1                    O              \tO\n",
      "\n",
      "SRV-1                    O              \tO\n",
      "\n",
      "SRV-1                    O              \tO\n",
      "\n",
      "SRV-1                    O              \tO\n",
      "\n",
      "SRV-1                    O              \tO\n",
      "\n",
      "SRV-1                    O              \tO\n",
      "\n",
      "SRV-1                    O              \tO\n",
      "\n",
      "SRV-1                    O              \tO\n",
      "\n",
      "SRV-1                    O              \tO\n",
      "\n",
      "SRV-1                    O              \tO\n",
      "\n",
      "SRV-1                    O              \tO\n",
      "\n",
      "SRV-1                    O              \tO\n",
      "\n",
      "SRV-1                    O              \tO\n",
      "\n",
      "SRV-1                    O              \tO\n",
      "\n",
      "SRV-1                    O              \tO\n",
      "\n",
      "SRV-1                    O              \tO\n",
      "\n",
      "SRV-1                    O              \tO\n",
      "\n",
      "SRV-1                    O              \tO\n",
      "\n",
      "SRV-1                    O              \tO\n",
      "\n",
      "SRV-1                    O              \tO\n",
      "\n",
      "SRV-1                    O              \tO\n",
      "\n",
      "SRV-1                    O              \tO\n",
      "\n",
      "SRV-1                    O              \tO\n",
      "\n",
      "SRV-1                    O              \tO\n",
      "\n",
      "SRV-1                    O              \tO\n",
      "\n",
      "SRV-1                    O              \tO\n",
      "\n",
      "SRV-1                    O              \tO\n",
      "\n",
      "SRV-1                    O              \tO\n",
      "\n",
      "SRV-1                    O              \tO\n",
      "\n",
      "SRV-1                    O              \tO\n",
      "\n",
      "SRV-1                    O              \tO\n",
      "\n",
      "SRV-1                    O              \tO\n",
      "\n",
      "SRV-1                    O              \tO\n",
      "\n",
      "SRV-1                    O              \tO\n",
      "\n",
      "SRV-1                    O              \tO\n",
      "\n",
      "SRV-1                    O              \tO\n",
      "\n"
     ]
    }
   ],
   "source": [
    "i = np.random.randint(0,x_test.shape[0])\n",
    "p = model.predict(np.array([x_test[i]]))\n",
    "p = np.argmax(p,axis = -1)\n",
    "\n",
    "y_true = np.argmax(np.array(y_test),axis=-1)[i]\n",
    "print(\"{:25}{:15}\\t{}\\n\".format(\"Word\",\"True\",\"Pred\"))\n",
    "print(\"-\"*50)\n",
    "for w, true,pred in zip(x_test[i],y_true,p[0]):\n",
    "    print(\"{:25}{:15}\\t{}\\n\".format(words[w],tags[true],tags[pred]))"
   ]
  },
  {
   "cell_type": "code",
   "execution_count": 20,
   "metadata": {},
   "outputs": [],
   "source": [
    "pairs = {}\n",
    "dif_class_word = {}\n",
    "\n",
    "for s in file_data:\n",
    "    for pair in s[0]:\n",
    "        if pair[0] not in list(pairs.keys()):            \n",
    "            pairs[pair[0]]=pair[1]\n",
    "        else:\n",
    "            if pairs[pair[0]]!=pair[1]:\n",
    "                #print(pair[0])\n",
    "                dif_class_word[pair[0]]=pair[1]\n",
    "            else:\n",
    "                continue\n",
    "                "
   ]
  },
  {
   "cell_type": "code",
   "execution_count": 21,
   "metadata": {},
   "outputs": [],
   "source": [
    "w_ = []\n",
    "for s in file_data:\n",
    "    for pair in s[0]:\n",
    "            if pair[0]==':':\n",
    "                pair_ =(pair,s[1])\n",
    "                w_.append(pair_)\n",
    "            else:\n",
    "                continue"
   ]
  },
  {
   "cell_type": "code",
   "execution_count": 22,
   "metadata": {},
   "outputs": [],
   "source": [
    "total=0\n",
    "correct = 0\n",
    "wrong = 0\n",
    "correct_words=[]\n",
    "wrong_words=[]\n",
    "wrong_in_train = 0\n",
    "correct_not_in = 0\n",
    "for i in range(len(x_test)):\n",
    "    p = model.predict(np.array([x_test[i]]))\n",
    "    p = np.argmax(p,axis = -1)\n",
    "\n",
    "    y_true = np.argmax(np.array(y_test),axis=-1)[i]\n",
    "    for w, true,pred in zip(x_test[i],y_true,p[0]):\n",
    "        if words[w]=='mediolateral':\n",
    "            continue\n",
    "        elif tags[true]==tags[pred]:\n",
    "            correct+=1\n",
    "            total+=1\n",
    "            correct_words.append(words[w])\n",
    "            if w not in x_train:\n",
    "                correct_not_in +=1\n",
    "        else:\n",
    "            wrong +=1\n",
    "            total+=1\n",
    "            wrong_words.append(words[w])\n",
    "            if w in x_train:\n",
    "                wrong_in_train +=1\n"
   ]
  },
  {
   "cell_type": "code",
   "execution_count": 28,
   "metadata": {},
   "outputs": [],
   "source": [
    "Y_true = []\n",
    "Y_pred = []\n",
    "X_w = []\n",
    "for i in range(len(x_test)):\n",
    "    p = model.predict(np.array([x_test[i]]))\n",
    "    p = np.argmax(p,axis = -1)\n",
    "    y_true = np.argmax(np.array(y_test),axis=-1)[i]\n",
    "    for w, true,pred in zip(x_test[i],y_true,p[0]):\n",
    "        Y_true.append(true)\n",
    "        Y_pred.append(pred)\n",
    "        X_w.append(w)\n"
   ]
  },
  {
   "cell_type": "code",
   "execution_count": 27,
   "metadata": {},
   "outputs": [],
   "source": [
    "from sklearn.metrics import f1_score"
   ]
  },
  {
   "cell_type": "code",
   "execution_count": 249,
   "metadata": {},
   "outputs": [],
   "source": [
    "F1 = f1_score(Y_true,Y_pred,average='macro')"
   ]
  },
  {
   "cell_type": "code",
   "execution_count": 248,
   "metadata": {},
   "outputs": [
    {
     "name": "stdout",
     "output_type": "stream",
     "text": [
      "0.9835327627562146\n"
     ]
    }
   ],
   "source": [
    "print(F1)"
   ]
  },
  {
   "cell_type": "code",
   "execution_count": 63,
   "metadata": {},
   "outputs": [],
   "source": [
    "tag2 = {}\n",
    "for t in tag2idx:\n",
    "    tag2[tag2idx[t]] = t\n",
    " "
   ]
  },
  {
   "cell_type": "code",
   "execution_count": 131,
   "metadata": {},
   "outputs": [],
   "source": [
    "tag_pre = {}\n",
    "tag_p = []\n",
    "for tag in tags:\n",
    "    if tag=='O':\n",
    "        continue\n",
    "    else:\n",
    "        \n",
    "        for i in range(len(Y_true)):\n",
    "            tag_w = Y_true[i]\n",
    "            if tag2[tag_w]==tag:\n",
    "                pre_w = Y_pred[i]            \n",
    "                tag_p.append(tag2[pre_w])\n",
    "    tag_pre[tag]=tag_p\n",
    "    tag_p = []\n",
    "            \n",
    "            \n",
    "    "
   ]
  },
  {
   "cell_type": "code",
   "execution_count": 132,
   "metadata": {},
   "outputs": [],
   "source": [
    "from collections import Counter"
   ]
  },
  {
   "cell_type": "code",
   "execution_count": 186,
   "metadata": {},
   "outputs": [],
   "source": [
    "keys = list(tag_pre.keys())\n",
    "keys.sort()\n",
    "m = len(keys)\n",
    "result = np.zeros((m,m),dtype='int')"
   ]
  },
  {
   "cell_type": "code",
   "execution_count": 187,
   "metadata": {},
   "outputs": [],
   "source": [
    "tags.sort(reverse=true)\n",
    "for i in range(m):\n",
    "    w = keys[i]\n",
    "    r = tag_pre[w]\n",
    "    counter = Counter(r)\n",
    "    for j in range(m):\n",
    "        n = counter[keys[j]]\n",
    "        result[i,j]=int(n)\n",
    "        "
   ]
  },
  {
   "cell_type": "code",
   "execution_count": 152,
   "metadata": {},
   "outputs": [],
   "source": [
    "import seaborn as sns\n",
    "import pandas as pd\n",
    "import numpy as np"
   ]
  },
  {
   "cell_type": "code",
   "execution_count": 244,
   "metadata": {
    "scrolled": false
   },
   "outputs": [
    {
     "data": {
      "image/png": "[encoded data removed]",
      "text/plain": [
       "<Figure size 960x960 with 2 Axes>"
      ]
     },
     "metadata": {},
     "output_type": "display_data"
    }
   ],
   "source": [
    "df = pd.DataFrame(result,columns=keys,index=keys,dtype='int')\n",
    "fig = plt.figure(num=None, figsize=(12, 12), dpi=80, facecolor='w', edgecolor='k')\n",
    "cmap = sns.cubehelix_palette(light=1, as_cmap=True)\n",
    "res = sns.heatmap(df, annot=True,cmap=cmap, cbar_kws={\"shrink\": .82},\n",
    "                  linewidths=0.1, linecolor='gray')\n",
    "plt.title('Seaborn heatmap - for each label')\n",
    "\n",
    "plt.savefig('seaborn_heatmap_ticklabels_font_size_04.png')              \n",
    "plt.show()\n"
   ]
  },
  {
   "cell_type": "code",
   "execution_count": 240,
   "metadata": {},
   "outputs": [],
   "source": [
    "precision = {}\n",
    "recall = {}\n",
    "F1 = {}\n",
    "for i in range(m):\n",
    "    if sum(result[:,i])==0:\n",
    "        precision[keys[i]]='NA'\n",
    "    else:\n",
    "        preci = result[i,i]/sum(result[:,i])\n",
    "        precision[keys[i]] = preci     \n",
    "\n",
    "    if sum(result[i,:])==0:\n",
    "        recall[keys[i]] ='NA'\n",
    "    else: \n",
    "        rec = result[i,i]/sum(result[i,:])\n",
    "        recall[keys[i]] = rec\n",
    "    F = 2*preci*rec/(preci+rec)\n",
    "    F1[keys[i]]=F"
   ]
  },
  {
   "cell_type": "code",
   "execution_count": 241,
   "metadata": {},
   "outputs": [
    {
     "name": "stdout",
     "output_type": "stream",
     "text": [
      "B-CellLine 0.9285714285714286\n",
      "B-Chemical 0.9059929494712103\n",
      "B-DNAMutation NA\n",
      "B-Disease 0.8685682326621924\n",
      "B-Gene 0.9661572052401747\n",
      "B-ProteinMutation NA\n",
      "B-Species 0.9516129032258065\n",
      "I-CellLine NA\n",
      "I-Chemical 0.8831460674157303\n",
      "I-DNAMutation NA\n",
      "I-Disease 0.8542183622828784\n",
      "I-Gene 0.9710843373493976\n",
      "I-ProteinMutation NA\n",
      "I-Species 0.7981927710843374\n"
     ]
    }
   ],
   "source": [
    "for s in precision:\n",
    "    print(s,precision[s])"
   ]
  },
  {
   "cell_type": "code",
   "execution_count": 242,
   "metadata": {
    "scrolled": false
   },
   "outputs": [
    {
     "name": "stdout",
     "output_type": "stream",
     "text": [
      "B-CellLine 0.2765957446808511\n",
      "B-Chemical 0.9649561952440551\n",
      "B-DNAMutation NA\n",
      "B-Disease 0.8729623383923553\n",
      "B-Gene 0.9455128205128205\n",
      "B-ProteinMutation 0.0\n",
      "B-Species 0.9617134192570129\n",
      "I-CellLine 0.0\n",
      "I-Chemical 0.8713968957871396\n",
      "I-DNAMutation 0.0\n",
      "I-Disease 0.8300180831826401\n",
      "I-Gene 0.8915929203539823\n",
      "I-ProteinMutation 0.0\n",
      "I-Species 0.879424778761062\n"
     ]
    }
   ],
   "source": [
    "for r in recall:\n",
    "    print(r,recall[r])"
   ]
  },
  {
   "cell_type": "code",
   "execution_count": 243,
   "metadata": {},
   "outputs": [
    {
     "name": "stdout",
     "output_type": "stream",
     "text": [
      "B-CellLine 0.42622950819672134\n",
      "B-Chemical 0.9345454545454545\n",
      "B-DNAMutation 0.9345454545454545\n",
      "B-Disease 0.8707597420801794\n",
      "B-Gene 0.9557235421166306\n",
      "B-ProteinMutation 0.0\n",
      "B-Species 0.9566365007541479\n",
      "I-CellLine 0.0\n",
      "I-Chemical 0.8772321428571428\n",
      "I-DNAMutation 0.0\n",
      "I-Disease 0.8419443595230816\n",
      "I-Gene 0.9296424452133795\n",
      "I-ProteinMutation 0.0\n",
      "I-Species 0.8368421052631579\n"
     ]
    }
   ],
   "source": [
    "for f in F1:\n",
    "    print(f,F1[f])"
   ]
  },
  {
   "cell_type": "code",
   "execution_count": 245,
   "metadata": {},
   "outputs": [],
   "source": [
    "outfile = open('D:/2021spring/text mining and deep learning/homework/test.txt',mode='w',newline='\\n')"
   ]
  },
  {
   "cell_type": "code",
   "execution_count": 246,
   "metadata": {},
   "outputs": [],
   "source": [
    "for i in range(len(test)):\n",
    "    test_pre = model.predict(np.array([test[i]]))\n",
    "    test_pre = np.argmax(test_pre,axis = -1)\n",
    "\n",
    "    for w,pred in zip(test[i],test_pre[0]):\n",
    "        if words[w]=='tracheitis':\n",
    "            continue\n",
    "        else:\n",
    "            outfile.write(words[w]+' '+tags[pred] + '\\n')"
   ]
  }
 ],
 "metadata": {
  "kernelspec": {
   "display_name": "Python 3",
   "language": "python",
   "name": "python3"
  },
  "language_info": {
   "codemirror_mode": {
    "name": "ipython",
    "version": 3
   },
   "file_extension": ".py",
   "mimetype": "text/x-python",
   "name": "python",
   "nbconvert_exporter": "python",
   "pygments_lexer": "ipython3",
   "version": "3.8.3"
  }
 },
 "nbformat": 4,
 "nbformat_minor": 4
}
