{
 "cells": [
  {
   "cell_type": "markdown",
   "metadata": {},
   "source": [
    "problem a)the number of isolated nodes is: 659\n",
    "\n",
    "problem b)the largest degree in this graph is: 23, the words is: ['cares']\n",
    "\n",
    "problem c)there are total:810 components\n",
    "\n",
    "problem d)the largest distance is: 21,the words is: retry\n",
    "\n",
    "problem e)the largest distance is 1654 ,words at this distance are :glare,shady"
   ]
  },
  {
   "cell_type": "code",
   "execution_count": 1,
   "metadata": {},
   "outputs": [],
   "source": [
    "from pythonds.graphs import Graph, Vertex\n",
    "from pythonds.basic import Queue\n",
    "import matplotlib.pyplot as plt"
   ]
  },
  {
   "cell_type": "code",
   "execution_count": 2,
   "metadata": {},
   "outputs": [],
   "source": [
    "def buildGraph(wordFile):\n",
    "    d = {}\n",
    "    g = Graph()\n",
    "    wfile = open(wordFile,'r')\n",
    "    # create buckets of words that differ by one letter\n",
    "    for line in wfile:\n",
    "        word = line[:-1]\n",
    "        for i in range(len(word)):\n",
    "            bucket = word[:i] + '_' + word[i+1:]\n",
    "            if bucket in d:\n",
    "                d[bucket].append(word)\n",
    "            else:\n",
    "                d[bucket] = [word]\n",
    "    # add vertices and edges for words in the same bucket\n",
    "    for bucket in d.keys():\n",
    "        for word1 in d[bucket]:\n",
    "            for word2 in d[bucket]:\n",
    "                if word1 != word2:\n",
    "                    g.addEdge(word1,word2)\n",
    "    return g"
   ]
  },
  {
   "cell_type": "code",
   "execution_count": 3,
   "metadata": {},
   "outputs": [],
   "source": [
    "wordfile = 'D:/2021spring/statistic compute with python/hw05/words5.txt'\n",
    "g = buildGraph(wordfile)"
   ]
  },
  {
   "cell_type": "code",
   "execution_count": 4,
   "metadata": {},
   "outputs": [],
   "source": [
    "wfile=open(wordfile,'r')\n",
    "nodes={}\n",
    "words=[]\n",
    "for line in wfile:\n",
    "    word = line[:-1]\n",
    "    words.append(word)\n",
    "    count=0\n",
    "    for v in g:        \n",
    "        if word == v.getId():            \n",
    "            for w in v.getConnections():\n",
    "                count+=1\n",
    "            nodes[word]=count\n",
    "        else:\n",
    "            nodes[word]=count\n"
   ]
  },
  {
   "cell_type": "code",
   "execution_count": 5,
   "metadata": {},
   "outputs": [
    {
     "name": "stdout",
     "output_type": "stream",
     "text": [
      "problem a)the number of isolated nodes is: 659\n",
      "problem b)the largest degree in this graph is: 23, the words is: cares\n"
     ]
    }
   ],
   "source": [
    "keys = list(nodes.keys())\n",
    "values = list(nodes.values())\n",
    "largest = max(values)\n",
    "isolate =values.count(0)\n",
    "\n",
    "#print(values.sort())\n",
    "position = values.index(largest)\n",
    "word_lar = keys[position]\n",
    "\n",
    "print('problem a)the number of isolated nodes is:',isolate)\n",
    "print('problem b)the largest degree in this graph is: %d, the words is: %s'%(largest,word_lar)) "
   ]
  },
  {
   "cell_type": "code",
   "execution_count": 6,
   "metadata": {},
   "outputs": [],
   "source": [
    "import unionfind as un"
   ]
  },
  {
   "cell_type": "code",
   "execution_count": 7,
   "metadata": {},
   "outputs": [],
   "source": [
    "x = un.unionfind(len(words))"
   ]
  },
  {
   "cell_type": "code",
   "execution_count": 8,
   "metadata": {},
   "outputs": [],
   "source": [
    "for i in range(len(words)):\n",
    "    word = words[i]\n",
    "    count = 0\n",
    "    for v in g:\n",
    "        if word == v.getId():\n",
    "            for nbr in v.getConnections():\n",
    "                nbr_name = nbr.getId()\n",
    "                nbr_index = words.index(nbr_name)\n",
    "                x.unite(i,nbr_index)"
   ]
  },
  {
   "cell_type": "code",
   "execution_count": 10,
   "metadata": {},
   "outputs": [
    {
     "name": "stdout",
     "output_type": "stream",
     "text": [
      "problem c)there are total:810 components\n"
     ]
    }
   ],
   "source": [
    "groups = len(x.groups())\n",
    "print(\"problem c)there are total:%d components\"%(groups))"
   ]
  },
  {
   "cell_type": "code",
   "execution_count": 10,
   "metadata": {},
   "outputs": [],
   "source": [
    "size = []"
   ]
  },
  {
   "cell_type": "code",
   "execution_count": 26,
   "metadata": {},
   "outputs": [],
   "source": [
    "for i in range(groups):\n",
    "    size_ = len(x.groups()[i])\n",
    "    size.append(size_)\n"
   ]
  },
  {
   "cell_type": "code",
   "execution_count": 30,
   "metadata": {},
   "outputs": [
    {
     "name": "stdout",
     "output_type": "stream",
     "text": [
      "problem c)there are total:5821 components\n"
     ]
    },
    {
     "data": {
      "text/plain": [
       "[<matplotlib.lines.Line2D at 0x2774ad4a070>]"
      ]
     },
     "execution_count": 30,
     "metadata": {},
     "output_type": "execute_result"
    },
    {
     "data": {
      "image/png": "[encoded data removed]",
      "text/plain": [
       "<Figure size 432x288 with 1 Axes>"
      ]
     },
     "metadata": {
      "needs_background": "light"
     },
     "output_type": "display_data"
    }
   ],
   "source": [
    "\n",
    "size.sort(reverse = True)\n",
    "plt.plot(size)        "
   ]
  },
  {
   "cell_type": "code",
   "execution_count": 31,
   "metadata": {},
   "outputs": [],
   "source": [
    "graph = buildGraph(wordfile)"
   ]
  },
  {
   "cell_type": "code",
   "execution_count": 32,
   "metadata": {},
   "outputs": [],
   "source": [
    "def bfs(g,start):\n",
    "#    print(start.getId())\n",
    "    start.setDistance(0)\n",
    "    start.setPred(None)\n",
    "    vertQueue = Queue()\n",
    "    vertQueue.enqueue(start)\n",
    "#    deepest = 0\n",
    "    while (vertQueue.size() > 0):\n",
    "        currentVert = vertQueue.dequeue()\n",
    "        for nbr in currentVert.getConnections():\n",
    "            if (nbr.getColor() == 'white'):\n",
    "                nbr.setColor('gray')\n",
    "                nbr.setDistance(currentVert.getDistance() + 1)\n",
    "                nbr.setPred(currentVert)\n",
    "                vertQueue.enqueue(nbr)\n",
    "#                if nbr.getDistance()>=deepest:\n",
    "#                     deepest = nbr.getDistance()\n",
    "#                    print(nbr)\n",
    "                if nbr.getDistance()>=21:\n",
    "#                    print(nbr)      \n",
    "                    print('problem d)the largest distance is: %d,the words is: %s'%(nbr.getDistance(),nbr.getId()))\n",
    "        currentVert.setColor('black')\n"
   ]
  },
  {
   "cell_type": "code",
   "execution_count": 33,
   "metadata": {},
   "outputs": [
    {
     "name": "stdout",
     "output_type": "stream",
     "text": [
      "problem d)the largest distance is: 21,the words is: retry\n"
     ]
    }
   ],
   "source": [
    "for v in graph:\n",
    "    if v.getId() == 'study':\n",
    "        start = v\n",
    "bfs(graph,start)"
   ]
  },
  {
   "cell_type": "code",
   "execution_count": 34,
   "metadata": {},
   "outputs": [],
   "source": [
    "class DFSGraph(Graph):\n",
    "    def __init__(self):\n",
    "        super().__init__()\n",
    "        self.time = 0\n",
    "\n",
    "    def dfs(self):\n",
    "        for aVertex in self:\n",
    "            aVertex.setColor('white')\n",
    "            aVertex.setPred(-1)\n",
    "        for aVertex in self:\n",
    "            if aVertex.getColor() == 'white':\n",
    "                self.dfsvisit(aVertex)\n",
    "\n",
    "    def dfsvisit(self,startVertex,lay,deep):\n",
    "        startVertex.setColor('gray')\n",
    "        self.time += 1\n",
    "        startVertex.setDiscovery(self.time)\n",
    "        for nextVertex in startVertex.getConnections():\n",
    "            if nextVertex.getColor() == 'white':\n",
    "                deep[nextVertex.getId()]=lay\n",
    "#                print(lay)\n",
    "#                print('child is: %s, parents is: %s'%(nextVertex.getId(),startVertex.getId()))\n",
    "                nextVertex.setPred(startVertex)\n",
    "                self.dfsvisit(nextVertex,lay+1,deep)     \n",
    "        startVertex.setColor('black')\n",
    "        self.time += 1\n",
    "        startVertex.setFinish(self.time)\n",
    "        return deep\n",
    "        "
   ]
  },
  {
   "cell_type": "code",
   "execution_count": 35,
   "metadata": {},
   "outputs": [],
   "source": [
    "Gra = buildGraph(wordfile)\n",
    "for v in Gra:\n",
    "    if v.getId() == 'study':\n",
    "        start = v\n",
    "test=DFSGraph()\n",
    "deep={}\n",
    "deepth = test.dfsvisit(start,1,deep)"
   ]
  },
  {
   "cell_type": "code",
   "execution_count": 37,
   "metadata": {},
   "outputs": [
    {
     "name": "stdout",
     "output_type": "stream",
     "text": [
      "the largest distance is 1654 ,words at this distance are :glare\n",
      "the largest distance is 1654 ,words at this distance are :shady\n"
     ]
    }
   ],
   "source": [
    "keys = list(deep.keys())\n",
    "values = list(deepth.values())\n",
    "values.sort()\n",
    "for key in keys:\n",
    "    if deepth[key] == values[-1]:\n",
    "        print('the largest distance is %d ,words at this distance are :%s'%(values[-1],key))\n"
   ]
  }
 ],
 "metadata": {
  "kernelspec": {
   "display_name": "Python 3",
   "language": "python",
   "name": "python3"
  },
  "language_info": {
   "codemirror_mode": {
    "name": "ipython",
    "version": 3
   },
   "file_extension": ".py",
   "mimetype": "text/x-python",
   "name": "python",
   "nbconvert_exporter": "python",
   "pygments_lexer": "ipython3",
   "version": "3.8.3"
  }
 },
 "nbformat": 4,
 "nbformat_minor": 4
}
