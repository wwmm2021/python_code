{
 "cells": [
  {
   "cell_type": "markdown",
   "metadata": {},
   "source": [
    "# problem d\n",
    "                    A\t     B        C\n",
    "        Test_Err    0.02\t 0.021\t 0.034\n",
    "      Train _Err\t0.0023\t0.00\t0.0065\n"
   ]
  },
  {
   "cell_type": "code",
   "execution_count": 1,
   "metadata": {},
   "outputs": [],
   "source": [
    "import numpy as np\n",
    "import matplotlib.pyplot as plt\n",
    "import tensorflow as tf\n",
    "%matplotlib inline"
   ]
  },
  {
   "cell_type": "code",
   "execution_count": 2,
   "metadata": {},
   "outputs": [],
   "source": [
    "# Loading the data (cat/non-cat)\n",
    "X_train = np.loadtxt(r\"D:/2021spring/statistic compute with python/hw08/Gisette/gisette_train.data\")\n",
    "Y_train = np.loadtxt(R\"D:/2021spring/statistic compute with python/hw08/Gisette/gisette_train.labels\")\n",
    "X_test = np.loadtxt(r\"D:/2021spring/statistic compute with python/hw08/Gisette/gisette_valid.data\")\n",
    "Y_test = np.loadtxt(r\"D:/2021spring/statistic compute with python/hw08/Gisette/gisette_valid.labels\")"
   ]
  },
  {
   "cell_type": "code",
   "execution_count": 3,
   "metadata": {},
   "outputs": [
    {
     "name": "stdout",
     "output_type": "stream",
     "text": [
      "6000 5000 1000 5000\n"
     ]
    }
   ],
   "source": [
    "m_train,num_input = X_train.shape # train data size\n",
    "m_test,n_test = X_test.shape   # test data size\n",
    "print(m_train,num_input,m_test,n_test)"
   ]
  },
  {
   "cell_type": "code",
   "execution_count": 4,
   "metadata": {},
   "outputs": [],
   "source": [
    "# normalize  and mat data\n",
    "X_train = tf.constant(X_train, dtype=tf.float32)\n",
    "mean, variance = tf.nn.moments(X_train, axes=[0])\n",
    "X_train_norm = (X_train-mean)/tf.sqrt(variance+1e-8)\n",
    "X_test_norm = (X_test-mean)/tf.sqrt(variance+1e-8)"
   ]
  },
  {
   "cell_type": "code",
   "execution_count": 5,
   "metadata": {},
   "outputs": [
    {
     "name": "stdout",
     "output_type": "stream",
     "text": [
      "tf.Tensor(\n",
      "[ 3.2175581e-07 -3.4117201e-07  2.6186306e-08 ... -2.0798048e-07\n",
      "  3.1510990e-07  2.6520092e-07], shape=(5000,), dtype=float32) tf.Tensor([0.9999922  0.99996746 0.9999737  ... 1.0001194  1.0000769  0.9998869 ], shape=(5000,), dtype=float32)\n"
     ]
    }
   ],
   "source": [
    "# check the train data mean and var\n",
    "mean1, variance1 = tf.nn.moments(X_train_norm, axes=[0])\n",
    "print(mean1,variance1)"
   ]
  },
  {
   "cell_type": "code",
   "execution_count": 42,
   "metadata": {},
   "outputs": [],
   "source": [
    "# Define loss function\n",
    "def custom_loss(y_true,y_pred):\n",
    "    tend=1-tf.multiply(y_true,y_pred) # 1- y_i * y_pred_i\n",
    "    tend=tf.maximum(0.0,tend) # max(0,1-y*y_pred)\n",
    "    tend=tf.square(tend) #max(0,1-y*y_pred)^2\n",
    "    tend=tf.math.log(1+tend)\n",
    "    return tf.reduce_mean(tend)"
   ]
  },
  {
   "cell_type": "code",
   "execution_count": 53,
   "metadata": {},
   "outputs": [],
   "source": [
    "# Define the neural network model with y_pred = x.T * W\n",
    "lambda_w = 0.0001\n",
    "inputs = tf.keras.Input(shape=(num_input,)) # input layer\n",
    "#norm_input = tf.keras.layers.experimental.preprocessing.Normalization()(inputs) #normalize data\n",
    "outputs = tf.keras.layers.Dense(1, # only 1 output  \n",
    "                                activation=\"linear\", #y = wx+b \n",
    "                                kernel_initializer='zeros', # for W(0)=0\n",
    "                                use_bias=False, # for x_i.^*W. If true, y_pred=x_i.^*W+b\n",
    "                                activity_regularizer=tf.keras.regularizers.L2(lambda_w) # for 'lambda W.T*W'\n",
    "                                )(inputs)\n",
    "model = tf.keras.Model(inputs=inputs, outputs=outputs, name=\"ting_model\")"
   ]
  },
  {
   "cell_type": "code",
   "execution_count": 44,
   "metadata": {},
   "outputs": [
    {
     "data": {
      "image/png": "[encoded data removed]",
      "text/plain": [
       "<Figure size 432x288 with 1 Axes>"
      ]
     },
     "metadata": {
      "needs_background": "light"
     },
     "output_type": "display_data"
    }
   ],
   "source": [
    "# Define the optimizer\n",
    "model.compile(\n",
    "    # Optimizer SGD, adjust the learning rate \\eta and momentum here. Momentum =0 means vanilla GD\n",
    "    optimizer=tf.keras.optimizers.SGD(learning_rate=0.01, momentum=0.0),  \n",
    "    # Loss function to minimize\n",
    "    loss=custom_loss\n",
    ")\n",
    "\n",
    "# train the model\n",
    "\n",
    "# specify the batch size and epoch (iteration) number here\n",
    "result_a = model.fit(X_train_norm, Y_train, batch_size=m_train, epochs=200,verbose=0) \n",
    "\n",
    "#plot the result\n",
    "plt.plot(result_a.history['loss'])\n",
    "plt.title('problem a) model loss')\n",
    "plt.ylabel('loss')\n",
    "plt.xlabel('epoch')\n",
    "plt.show()"
   ]
  },
  {
   "cell_type": "code",
   "execution_count": 45,
   "metadata": {},
   "outputs": [
    {
     "name": "stdout",
     "output_type": "stream",
     "text": [
      "problem a)\n",
      "test ERR is:  0.02\n",
      "train ERR is:  0.0023333333\n"
     ]
    }
   ],
   "source": [
    "y_test_pred = tf.math.sign(model.predict(X_test_norm))\n",
    "ERR_test_a = np.mean(abs(Y_test-y_test_pred[:,0])/2)\n",
    "y_train_pred = tf.math.sign(model.predict(X_train_norm))\n",
    "ERR_train_a = np.mean(abs(Y_train-y_train_pred[:,0])/2)\n",
    "print('problem a)')\n",
    "print('test ERR is: ',ERR_test_a)\n",
    "print('train ERR is: ',ERR_train_a)"
   ]
  },
  {
   "cell_type": "code",
   "execution_count": 50,
   "metadata": {},
   "outputs": [
    {
     "data": {
      "image/png": "[encoded data removed]",
      "text/plain": [
       "<Figure size 432x288 with 1 Axes>"
      ]
     },
     "metadata": {
      "needs_background": "light"
     },
     "output_type": "display_data"
    }
   ],
   "source": [
    "# Define the optimizer\n",
    "model.compile(\n",
    "    # Optimizer SGD, adjust the learning rate \\eta and momentum here. Momentum =0 means vanilla GD\n",
    "    optimizer=tf.keras.optimizers.SGD(learning_rate=0.01, momentum=0.0),  \n",
    "    # Loss function to minimize\n",
    "    loss=custom_loss\n",
    ")\n",
    "\n",
    "#train the model\n",
    "result_b = model.fit(X_train_norm, Y_train, batch_size=128, epochs=20,verbose=0) \n",
    "\n",
    "#plot the result\n",
    "plt.plot(result_b.history['loss'])\n",
    "plt.title('problem b) model loss')\n",
    "plt.ylabel('loss')\n",
    "plt.xlabel('epoch')\n",
    "plt.show()"
   ]
  },
  {
   "cell_type": "code",
   "execution_count": 52,
   "metadata": {},
   "outputs": [
    {
     "name": "stdout",
     "output_type": "stream",
     "text": [
      "problem b)\n",
      "test ERR is:  0.021\n",
      "train ERR is:  0.0\n"
     ]
    }
   ],
   "source": [
    "y_test_pred = tf.math.sign(model.predict(X_test_norm))\n",
    "ERR_test_b = np.mean(abs(Y_test-y_test_pred[:,0])/2)\n",
    "y_train_pred = tf.math.sign(model.predict(X_train_norm))\n",
    "ERR_train_b = np.mean(abs(Y_train-y_train_pred[:,0])/2)\n",
    "print('problem b)')\n",
    "print('test ERR is: ',ERR_test_b)\n",
    "print('train ERR is: ',ERR_train_b)"
   ]
  },
  {
   "cell_type": "code",
   "execution_count": 54,
   "metadata": {},
   "outputs": [
    {
     "data": {
      "image/png": "[encoded data removed]",
      "text/plain": [
       "<Figure size 432x288 with 1 Axes>"
      ]
     },
     "metadata": {
      "needs_background": "light"
     },
     "output_type": "display_data"
    }
   ],
   "source": [
    "# Define the optimizer\n",
    "model.compile(\n",
    "    # Optimizer SGD, adjust the learning rate \\eta and momentum here. Momentum =0 means vanilla GD\n",
    "    optimizer=tf.keras.optimizers.SGD(learning_rate=0.01, momentum=0.9),  \n",
    "    # Loss function to minimize\n",
    "    loss=custom_loss\n",
    ")\n",
    "\n",
    "#train the model\n",
    "result_c = model.fit(X_train_norm, Y_train, batch_size=128, epochs=20,verbose=0) \n",
    "\n",
    "#plot the result\n",
    "\n",
    "plt.plot(result_c.history['loss'])\n",
    "plt.title('problem c) model loss')\n",
    "plt.ylabel('loss')\n",
    "plt.xlabel('epoch')\n",
    "plt.show()"
   ]
  },
  {
   "cell_type": "code",
   "execution_count": 55,
   "metadata": {},
   "outputs": [
    {
     "name": "stdout",
     "output_type": "stream",
     "text": [
      "problem c)\n",
      "test ERR is:  0.034\n",
      "train ERR is:  0.0065\n"
     ]
    }
   ],
   "source": [
    "y_test_pred = tf.math.sign(model.predict(X_test))\n",
    "ERR_test_c = np.mean(abs(Y_test-y_test_pred[:,0])/2)\n",
    "y_train_pred = tf.math.sign(model.predict(X_train))\n",
    "ERR_train_c = np.mean(abs(Y_train-y_train_pred[:,0])/2)\n",
    "print('problem c)')\n",
    "print('test ERR is: ',ERR_test_c)\n",
    "print('train ERR is: ',ERR_train_c)"
   ]
  }
 ],
 "metadata": {
  "kernelspec": {
   "display_name": "Python 3",
   "language": "python",
   "name": "python3"
  },
  "language_info": {
   "codemirror_mode": {
    "name": "ipython",
    "version": 3
   },
   "file_extension": ".py",
   "mimetype": "text/x-python",
   "name": "python",
   "nbconvert_exporter": "python",
   "pygments_lexer": "ipython3",
   "version": "3.8.3"
  }
 },
 "nbformat": 4,
 "nbformat_minor": 4
}
