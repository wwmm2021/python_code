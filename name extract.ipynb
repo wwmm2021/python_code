{
 "cells": [
  {
   "cell_type": "code",
   "execution_count": 1,
   "metadata": {},
   "outputs": [],
   "source": [
    "import re"
   ]
  },
  {
   "cell_type": "code",
   "execution_count": 2,
   "metadata": {},
   "outputs": [],
   "source": [
    "def extract(fileaddress,output):\n",
    "    file = fileaddress; file1=output\n",
    "    lines = file.readlines()\n",
    "    file.close()\n",
    "\n",
    "    sentence_ID = {}\n",
    "    entity_ID = {}\n",
    "    paires_ID = {}\n",
    "\n",
    "    Tr=0\n",
    "    pair_number = 0\n",
    "    uni_protein = []\n",
    "\n",
    "    result = []\n",
    "    sentence = []\n",
    "\n",
    "    for line in lines:\n",
    "        line = line.strip()\n",
    "        if line.startswith('<sentence id='):\n",
    "            sentence = re.match('^<sentence id=\"(.*?)\".*text=\"(.*?).\".*>',line)\n",
    "            sentence_ID[sentence.group(1)] = sentence.group(2)  #{sentenceId : sentence_text}\n",
    "        elif line.startswith(\"<entity char\"):\n",
    "            entity = re.match('.*charOffset=\"(.*?)\".*id=\"(.*?)\".*text=\"(.*?)\".*>',line)\n",
    "            entity_ID[entity.group(2)]=[entity.group(3),entity.group(1)]   # {e_ID:[protein_name,offset]}\n",
    "            if entity.group(3) not in uni_protein:          #check the pretein name in unique list \n",
    "                uni_protein.append(entity.group(3)) \n",
    "        elif line.startswith(\"<pair\"):\n",
    "            pair_number +=1    #count paires number\n",
    "            paires = re.match('.*e1=\"(.*?)\".*e2=\"(.*?)\".*id=\"(.*?)\".*interaction=\"(.*?)\".*>',line)\n",
    "            key_ID = re.match('(.*).p.*',paires.group(3)) # sentence_ID\n",
    "            sentence_ = [paires.group(3)] \\\n",
    "                    + [entity_ID[paires.group(1)][0]] \\\n",
    "                    + [entity_ID[paires.group(1)][1]] \\\n",
    "                    + [entity_ID[paires.group(2)][0]] \\\n",
    "                    + [entity_ID[paires.group(2)][1]] \\\n",
    "                    + [sentence_ID[key_ID.group(1)]]  \n",
    "            sentence = \" : \".join(sentence_)\n",
    "            file1.write(sentence + '\\n')\n",
    "            if paires.group(4)=='True': #count interaction = true number\n",
    "                Tr+=1\n",
    "\n",
    "    Fa = pair_number - Tr\n",
    "    print('True case number is :',Tr)\n",
    "    print('False case number is :',Fa)\n",
    "    print(\"the total number of PPI pairs is:\",pair_number)   \n",
    "    print('total paired unique protein number is: ',len(uni_protein)) "
   ]
  },
  {
   "cell_type": "code",
   "execution_count": 3,
   "metadata": {},
   "outputs": [
    {
     "name": "stdout",
     "output_type": "stream",
     "text": [
      "True case number is : 1000\n",
      "False case number is : 4834\n",
      "the total number of PPI pairs is: 5834\n",
      "total paired unique protein number is:  1138\n"
     ]
    }
   ],
   "source": [
    "address = open('D:/2021spring/text mining and deep learning/homework/hw01/PPI_corpus/PPI_corpus/AImed.xml')\n",
    "out = open('D:/2021spring/text mining and deep learning/homework/hw01/AImeddata.xml',mode='w',newline='\\n')\n",
    "extract(address,out)\n"
   ]
  }
 ],
 "metadata": {
  "kernelspec": {
   "display_name": "Python 3",
   "language": "python",
   "name": "python3"
  },
  "language_info": {
   "codemirror_mode": {
    "name": "ipython",
    "version": 3
   },
   "file_extension": ".py",
   "mimetype": "text/x-python",
   "name": "python",
   "nbconvert_exporter": "python",
   "pygments_lexer": "ipython3",
   "version": "3.8.3"
  }
 },
 "nbformat": 4,
 "nbformat_minor": 4
}
