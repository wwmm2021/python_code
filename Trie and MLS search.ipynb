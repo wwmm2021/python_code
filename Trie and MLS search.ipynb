{
 "cells": [
  {
   "cell_type": "code",
   "execution_count": 1,
   "metadata": {},
   "outputs": [],
   "source": [
    "from timeit import default_timer as timer"
   ]
  },
  {
   "cell_type": "code",
   "execution_count": 5,
   "metadata": {},
   "outputs": [],
   "source": [
    "# class Trie\n",
    "class Trie(object):\n",
    "    def __init__(self,word):\n",
    "        self.name =word\n",
    "        self.children = set()\n",
    "        self.havechild = False\n",
    "    \n",
    "    def add_newword(self,input_word,debug=False):        \n",
    "        current_node = self\n",
    "        word_pieces_list= input_word.split(' ') # split input_word to single word by space\n",
    "        for word_sp in word_pieces_list:\n",
    "                word_find =False\n",
    "                for child in current_node.children:\n",
    "                    if child.name==word_sp:\n",
    "                        next_node = child\n",
    "                        current_node = next_node\n",
    "                        word_find =True\n",
    "                        break\n",
    "\n",
    "                if not word_find:\n",
    "                    next_node = Trie(word_sp)\n",
    "                    current_node.children.add(next_node)  #add un-duplicate Trie into children \n",
    "                    current_node.havechild = True\n",
    "                    current_node = next_node   # currentnode turn to the next level(child)\n",
    "   \n",
    "    def find_protein(self,sentence):\n",
    "        word_list = sentence.split(' ')\n",
    "        length = len(word_list)\n",
    "        current_protein = self                   \n",
    "        protein_name = set()\n",
    "        temp=[]\n",
    "        for word in word_list:                  \n",
    "            # if current_node have child and word in child list\n",
    "            if current_protein.havechild and word in [child.name for child in current_protein.children]:\n",
    "                for child in current_protein.children:\n",
    "                    if child.name == word:\n",
    "                        temp.append(word)\n",
    "                        current_protein = child\n",
    "                        if word == word_list[-1]: # word at last position in sentence\n",
    "                            protein_name.add(\" \".join(temp))\n",
    "                        break\n",
    "            else:\n",
    "                if len(temp)>0:\n",
    "                    protein_name.add(\" \".join(temp))\n",
    "                    # current node is not root ,set current node to root to check whether word is a name of protein\n",
    "                    temp=[]\n",
    "                    current_protein=self\n",
    "                    for child in current_protein.children:\n",
    "                        if child.name == word:\n",
    "                            temp.append(word)\n",
    "                            current_protein = child\n",
    "                            break\n",
    "        return protein_name    "
   ]
  },
  {
   "cell_type": "code",
   "execution_count": 10,
   "metadata": {},
   "outputs": [
    {
     "name": "stdout",
     "output_type": "stream",
     "text": [
      "SATB1 also targets ACF1 and ISWI  subunits of CHRAC and ACF nucleosome mobilizing complexes  to this specific site and regulates nucleosome positioning over seven kilobases \n",
      "\n",
      "protein {'ISWI', 'SATB1', 'nucleosome', 'ACF1', 'CHRAC'}  in sentence 1.\n",
      "\n",
      "ZHX3 not only dimerizes with both ZHX1 and ZHX3  but also interacts with the Stat3 TAF1 activation domain of the NF-YA \n",
      "\n",
      "protein {'Stat3', 'ZHX1', 'ZHX3', 'TAF1', 'NF-YA'}  in sentence 2.\n",
      "\n",
      "In this work we report that the Saccharomyces cerevisiae RAD9 RAD24 RAD17 MEC1 MEC3 and RAD53 checkpoint genes are required for efficient non-homologous end joining (NHEJ) \n",
      "\n",
      "protein {'RAD24', 'MEC3', 'RAD17', 'RAD9', 'MEC1', 'RAD53'}  in sentence 3.\n",
      "\n"
     ]
    }
   ],
   "source": [
    "root = Trie('')\n",
    "for word in protein_list:\n",
    "    root.add_newword(word)\n",
    "\n",
    "start_ = timer()\n",
    "for k in range(len(send_sentence)):\n",
    "    print(send_sentence[k],'\\n')\n",
    "    for test in range(1000):\n",
    "        Trie_result = root.find_protein(send_sentence[k])\n",
    "    print(\"protein %s  in sentence %d.\\n\"%(Trie_result,k+1))\n",
    "end_ = timer()\n",
    "total_time_ = end_ - start_\n",
    "#print(\"Trie average time is %d /1000 \"%(total_time_))"
   ]
  },
  {
   "cell_type": "code",
   "execution_count": 4,
   "metadata": {},
   "outputs": [],
   "source": [
    "# define MLS\n",
    "\n",
    "def MLS(sentence,MLD,name,debug=False):\n",
    "    sen = sentence.split(\" \")\n",
    "    protein = set()\n",
    "    i=0\n",
    "    MLD_keys = list(MLD.keys())         # MLD keys\n",
    "    l_sen = len(sen)                    # length of sentence\n",
    "    while i <(len(sen)):\n",
    "        word=sen[i]\n",
    "        if word not in MLD_keys:   #word not in dictionary\n",
    "            i+=1\n",
    "            continue\n",
    "        else:                       #word in dictionary\n",
    "            l_word = MLD[word]           # maximum length of word            \n",
    "            if l_word+i>=l_sen-i:        # word.index + maximum length of word > length of sentence\n",
    "                for j in range(l_sen,i,-1):  \n",
    "                    if \" \".join(sen[i:j]) in name:\n",
    "                        protein.add(' '.join(sen[i:j]))\n",
    "                        i=j\n",
    "                        break                    \n",
    "            else:\n",
    "                for j in range(i+l_word,i,-1):\n",
    "                    if \" \".join(sen[i:j]) in name:\n",
    "                        protein.add(\" \".join(sen[i:j]))\n",
    "                        i=j\n",
    "                        break                \n",
    "    return protein"
   ]
  },
  {
   "cell_type": "code",
   "execution_count": null,
   "metadata": {},
   "outputs": [],
   "source": [
    "start_ = timer()\n",
    "for k in range(len(send_sentence)):\n",
    "    print(send_sentence[k],'\\n')\n",
    "    for t in range(1000):\n",
    "        MLS_result = MLS(send_sentence[k],MLD,protein_list)\n",
    "    print(\"protein %s  in sentence %d.\\n\"%(MLS_result,k+1))\n",
    "end_ = timer()\n",
    "total_time_ = end_ - start_\n",
    "#print(\"MLS average time is %d /1000 \"%(total_time_))"
   ]
  },
  {
   "cell_type": "code",
   "execution_count": 7,
   "metadata": {},
   "outputs": [],
   "source": [
    "# creat a text text\n",
    "text='SATB1 also targets ACF1 and ISWI , subunits of CHRAC and ACF nucleosome mobilizing complexes , to this specific site and regulates nucleosome positioning over seven kilobases. ZHX3 not only dimerizes with both ZHX1 and ZHX3 , but also interacts with the Stat3 TAF1 activation domain of the NF-YA. In this work we report that the Saccharomyces cerevisiae RAD9, RAD24, RAD17, MEC1, MEC3 and RAD53 checkpoint genes are required for efficient non-homologous end joining (NHEJ).'"
   ]
  },
  {
   "cell_type": "code",
   "execution_count": 8,
   "metadata": {
    "scrolled": true
   },
   "outputs": [],
   "source": [
    "# load pretein name\n",
    "protein_list=[]\n",
    "file1 = open('D:/2021spring/text mining and deep learning/homework/hw02/protein_name.xml')\n",
    "for line in file1:\n",
    "    protein=line.strip()  \n",
    "    protein_list.append(protein)\n",
    "    \n",
    "# build maximum length dictionary\n",
    "MLD = {}\n",
    "length_name = {}\n",
    "for word in protein_list:\n",
    "    word_list = word.split(' ')\n",
    "    if word_list[0] not in MLD.keys():\n",
    "        MLD[word_list[0]]=len(word_list)\n",
    "    else:\n",
    "        if len(word_list)>MLD[word_list[0]]:\n",
    "            MLD[word_list[0]] = len(word_list)   "
   ]
  },
  {
   "cell_type": "code",
   "execution_count": 9,
   "metadata": {},
   "outputs": [
    {
     "name": "stdout",
     "output_type": "stream",
     "text": [
      "SATB1 also targets ACF1 and ISWI  subunits of CHRAC and ACF nucleosome mobilizing complexes  to this specific site and regulates nucleosome positioning over seven kilobases\n",
      "ZHX3 not only dimerizes with both ZHX1 and ZHX3  but also interacts with the Stat3 TAF1 activation domain of the NF-YA\n",
      "In this work we report that the Saccharomyces cerevisiae RAD9 RAD24 RAD17 MEC1 MEC3 and RAD53 checkpoint genes are required for efficient non-homologous end joining (NHEJ)\n"
     ]
    }
   ],
   "source": [
    "#split text to sentence\n",
    "end = ['.',':','!','?']\n",
    "d_Punctuation = [',']    #skip = [',']\n",
    "sentence=[]  # store sentence splitted from text\n",
    "sentences = []   # store sentences \n",
    "for i in range(len(text)):\n",
    "    if text[i] in end:\n",
    "        if i+2 >= len(text) or (text[i+2].isupper() and text[i+1]==' ') :\n",
    "            #sentence.append(text[i])  \n",
    "            sentences.append(sentence)\n",
    "            sentence=[]\n",
    "    elif text[i] in d_Punctuation:\n",
    "        continue        \n",
    "    else:\n",
    "        sentence.append(text[i])\n",
    "\n",
    "# conbine to sentence\n",
    "send_sentence=[]\n",
    "for j in range(len(sentences)):\n",
    "    sentence = sentences[j]\n",
    "    sentence = \"\".join(sentence)\n",
    "    sentence =sentence.strip()\n",
    "    print(sentence)\n",
    "    send_sentence.append(sentence)\n"
   ]
  }
 ],
 "metadata": {
  "kernelspec": {
   "display_name": "Python 3",
   "language": "python",
   "name": "python3"
  },
  "language_info": {
   "codemirror_mode": {
    "name": "ipython",
    "version": 3
   },
   "file_extension": ".py",
   "mimetype": "text/x-python",
   "name": "python",
   "nbconvert_exporter": "python",
   "pygments_lexer": "ipython3",
   "version": "3.8.3"
  }
 },
 "nbformat": 4,
 "nbformat_minor": 4
}
